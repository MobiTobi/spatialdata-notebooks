{
 "cells": [
  {
   "cell_type": "markdown",
   "id": "7bf33a06-009a-487a-991b-715a28b1069b",
   "metadata": {},
   "source": [
    "# Scope and description"
   ]
  },
  {
   "cell_type": "markdown",
   "id": "d96031b8-ee40-43ca-9001-011f4751d4c1",
   "metadata": {},
   "source": [
    "<One line description>\n",
    "\n",
    "Elements contained:\n",
    "- <Element>\n",
    "- <Another element>\n",
    "\n",
    "Annotations contained:\n",
    "- <table annotating...>\n",
    "\n",
    "<Additional notes>"
   ]
  },
  {
   "cell_type": "markdown",
   "id": "5a4c6566-882a-48d4-a4cd-0777332a5a99",
   "metadata": {},
   "source": [
    "# Prepare the data"
   ]
  },
  {
   "cell_type": "code",
   "execution_count": null,
   "id": "094509a1-86fb-4aa6-b920-11e34ed43e1c",
   "metadata": {},
   "outputs": [],
   "source": [
    "NAME = 'name_of_the_notebook'"
   ]
  },
  {
   "cell_type": "code",
   "execution_count": null,
   "id": "332c9c62-7451-4d8e-ba9e-13c12131c312",
   "metadata": {},
   "outputs": [],
   "source": [
    "import spatialdata as sd\n",
    "import spatialdata_plot\n",
    "from spatialdata.datasets import blobs\n",
    "from io_utils import delete_old_data, write_sdata_and_check_consistency\n",
    "\n",
    "delete_old_data(name=NAME)\n",
    "sdata = <create sdata here>\n",
    "sdata"
   ]
  },
  {
   "cell_type": "markdown",
   "id": "800a540b-2906-46c9-8245-99def219692f",
   "metadata": {},
   "source": [
    "# Read-write and IO validation"
   ]
  },
  {
   "cell_type": "code",
   "execution_count": null,
   "id": "b6c01345-27de-42f3-af07-75a43e84808a",
   "metadata": {},
   "outputs": [],
   "source": [
    "write_sdata_and_check_consistency(sdata=sdata, name=NAME)"
   ]
  },
  {
   "cell_type": "markdown",
   "id": "06806f13-f346-410f-ab04-fdd61fd77a10",
   "metadata": {},
   "source": [
    "# Plot the data"
   ]
  },
  {
   "cell_type": "code",
   "execution_count": null,
   "id": "af8d7108-8b7c-461e-871e-77d82de82af6",
   "metadata": {},
   "outputs": [],
   "source": [
    "<plot teh data>"
   ]
  }
 ],
 "metadata": {
  "kernelspec": {
   "display_name": "Python 3 (ipykernel)",
   "language": "python",
   "name": "python3"
  },
  "language_info": {
   "codemirror_mode": {
    "name": "ipython",
    "version": 3
   },
   "file_extension": ".py",
   "mimetype": "text/x-python",
   "name": "python",
   "nbconvert_exporter": "python",
   "pygments_lexer": "ipython3",
   "version": "3.10.12"
  }
 },
 "nbformat": 4,
 "nbformat_minor": 5
}
