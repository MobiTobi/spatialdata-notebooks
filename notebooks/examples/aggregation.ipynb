{
 "cells": [
  {
   "cell_type": "markdown",
   "metadata": {
    "tags": []
   },
   "source": [
    "# Integrate/aggregate signals across spatial layers\n",
    "\n",
    "In this notebook, we will describe some usage principles for the *aggregate* method.\n",
    "\n",
    "Let's first import some useful libraries and create some dummy data to show the example."
   ]
  },
  {
   "cell_type": "code",
   "execution_count": null,
   "metadata": {
    "tags": []
   },
   "outputs": [],
   "source": [
    "%load_ext autoreload\n",
    "%autoreload 2\n",
    "\n",
    "%load_ext jupyter_black"
   ]
  },
  {
   "cell_type": "code",
   "execution_count": null,
   "metadata": {},
   "outputs": [],
   "source": [
    "import os\n",
    "\n",
    "os.environ[\"USE_PYGEOS\"] = \"0\""
   ]
  },
  {
   "cell_type": "code",
   "execution_count": null,
   "metadata": {},
   "outputs": [],
   "source": [
    "import spatialdata_plot\n",
    "from spatialdata.datasets import blobs"
   ]
  },
  {
   "cell_type": "code",
   "execution_count": null,
   "metadata": {},
   "outputs": [],
   "source": [
    "sdata = blobs()\n",
    "sdata"
   ]
  },
  {
   "cell_type": "code",
   "execution_count": null,
   "metadata": {},
   "outputs": [],
   "source": [
    "import matplotlib.pyplot as plt\n",
    "\n",
    "fig, axs = plt.subplots(ncols=3, figsize=(12, 3))\n",
    "\n",
    "sdata.pl.render_images(\"blobs_image\").pl.show(ax=axs[0])\n",
    "sdata.pl.render_labels(\"blobs_labels\").pl.show(ax=axs[1])\n",
    "sdata.pl.render_points(\"blobs_points\").pl.show(ax=axs[2])"
   ]
  },
  {
   "cell_type": "markdown",
   "metadata": {},
   "source": [
    "We can do various type of aggregations:\n",
    "- aggregate *images* by *labels*\n",
    "- aggregate *points* by *shapes*\n",
    "- aggregate *shapes* by *shapes*\n",
    "\n",
    "Aggregations between mixed raster and non-raster types are currently not supported (but will be).\n",
    "\n",
    "The API function for aggregation is `spatialdata.aggregate`. It is also possible to perform aggregation using the convenience method `spatialdata.SpatialData.aggregate`, which simply calls the previous one and automatically fills some values (`values_sdata` and `by_sdata`) with `self`; we will see this below.\n",
    "\n",
    "Let's start with aggregation of *images* by *labels*. This can be achieved with one line of code:"
   ]
  },
  {
   "cell_type": "markdown",
   "metadata": {},
   "source": [
    "## Aggregating images by labels"
   ]
  },
  {
   "cell_type": "code",
   "execution_count": null,
   "metadata": {},
   "outputs": [],
   "source": [
    "sdata_im = sdata.aggregate(values=\"blobs_image\", by=\"blobs_labels\", agg_func=\"mean\")"
   ]
  },
  {
   "cell_type": "markdown",
   "metadata": {},
   "source": [
    "As default, the aggregation function is `sum` but it can be changed with the `agg_func` parameter. We can inspect the table inside the returned `SpatialData` object to confirm that the operation results in retrieving the mean intensity of each image channel within the boundaries of the labels.\n",
    "We can also visualize the results with `spatialdata-plot`. By overlaying the labels with the channel where we performed aggregation, we can better appreciate the results. Labels that overlap with high intensity of the channels have indeed a higher mean intensity.\n",
    "\n",
    "The features of the new table are the following:"
   ]
  },
  {
   "cell_type": "code",
   "execution_count": null,
   "metadata": {},
   "outputs": [],
   "source": [
    "sdata_im.table.var_names"
   ]
  },
  {
   "cell_type": "code",
   "execution_count": null,
   "metadata": {},
   "outputs": [],
   "source": [
    "ax = plt.gca()\n",
    "sdata.pl.render_images(\"blobs_image\", cmap=\"viridis\", channel=1).pl.show(ax=ax)\n",
    "sdata_im.pl.render_labels(color=\"channel_1_mean\", fill_alpha=0.5).pl.show(ax=ax)"
   ]
  },
  {
   "cell_type": "markdown",
   "metadata": {},
   "source": [
    "We can also aggregate points by shapes. For example, let's count the number of points that overlap each shape.\n"
   ]
  },
  {
   "cell_type": "markdown",
   "metadata": {},
   "source": [
    "Here we see the points and shapes that we will use for aggregation."
   ]
  },
  {
   "cell_type": "markdown",
   "metadata": {},
   "source": [
    "## Aggregating points by shapes"
   ]
  },
  {
   "cell_type": "code",
   "execution_count": null,
   "metadata": {},
   "outputs": [],
   "source": [
    "sdata[\"blobs_points\"].compute()"
   ]
  },
  {
   "cell_type": "code",
   "execution_count": null,
   "metadata": {
    "tags": []
   },
   "outputs": [],
   "source": [
    "sdata.pl.render_points(color=\"genes\").pl.render_shapes(\"blobs_polygons\").pl.show()"
   ]
  },
  {
   "cell_type": "markdown",
   "metadata": {},
   "source": [
    "The `value_key` parameters specifies which columns of the points dataframe will be aggregated."
   ]
  },
  {
   "cell_type": "code",
   "execution_count": null,
   "metadata": {},
   "outputs": [],
   "source": [
    "sdata_shapes = sdata.aggregate(values=\"blobs_points\", by=\"blobs_polygons\", value_key=\"genes\", agg_func=\"count\")\n",
    "sdata_shapes"
   ]
  },
  {
   "cell_type": "markdown",
   "metadata": {},
   "source": [
    "Let's color by the `var` value `b` of the aggregate table (that is, we color by the numbers of points of type `b` inside each shape)."
   ]
  },
  {
   "cell_type": "code",
   "execution_count": null,
   "metadata": {},
   "outputs": [],
   "source": [
    "ax = plt.gca()\n",
    "sdata.pl.render_points(color=\"genes\").pl.show(ax=ax)\n",
    "sdata_shapes.pl.render_shapes(color=\"b\", alpha=0.7).pl.show(ax=ax)"
   ]
  },
  {
   "cell_type": "markdown",
   "metadata": {},
   "source": [
    "The colormap represents the number of counts for the selected variable (gene \"b\"). The rightmost polygon has correctly a value of 2, as there are 2 transcripts (points) of type \"b\" overlapping the polygon area."
   ]
  },
  {
   "cell_type": "markdown",
   "metadata": {},
   "source": [
    "## Aggregating shapes by shapes, and information from different locations "
   ]
  },
  {
   "cell_type": "markdown",
   "metadata": {},
   "source": [
    "In this example let's show four things:\n",
    "- aggregating shapes by shapes\n",
    "- aggregating layers from different `SpatialData` objects\n",
    "- aggregating signals from different location within the same `SpatialData` object (`value_key` parameter).\n",
    "- explain the difference of the `aggregate()` function and the `aggregate()` method\n",
    "\n",
    "To do so, let's create two `SpatialData` objects:\n",
    "- one with the `blobs_circles` geometries, but adding some extra annotations, both as new `GeoDataFrame` columns, and in an `AnnData` table;\n",
    "- one wiht two large rectangles that we will use to aggregate the circles by."
   ]
  },
  {
   "cell_type": "markdown",
   "metadata": {},
   "source": [
    "### Creating the circles object"
   ]
  },
  {
   "cell_type": "code",
   "execution_count": null,
   "metadata": {},
   "outputs": [],
   "source": [
    "sdata.pl.render_shapes(\"blobs_circles\").pl.show()"
   ]
  },
  {
   "cell_type": "code",
   "execution_count": null,
   "metadata": {},
   "outputs": [],
   "source": [
    "import numpy as np\n",
    "import pandas as pd\n",
    "from anndata import AnnData\n",
    "from numpy.random import default_rng\n",
    "from spatialdata import SpatialData\n",
    "from spatialdata.models import TableModel\n",
    "\n",
    "RNG = default_rng(42)\n",
    "\n",
    "adata_circles = AnnData(\n",
    "    RNG.normal(size=(5, 3)),\n",
    "    var=pd.DataFrame(index=[\"gene_h\", \"gene_k\", \"gene_l\"]),\n",
    "    obs=pd.DataFrame(\n",
    "        {\n",
    "            \"categorical\": [\"a\", \"a\", \"b\", \"c\", \"d\"],\n",
    "            \"region\": \"blobs_circles\",\n",
    "            \"instance_id\": np.arange(5),\n",
    "        }\n",
    "    ),\n",
    ")\n",
    "adata_circles.obs[\"categorical\"] = adata_circles.obs[\"categorical\"].astype(\"category\")\n",
    "adata_circles.obs[\"region\"] = adata_circles.obs[\"region\"].astype(\"category\")\n",
    "adata_circles = TableModel.parse(adata_circles, region=\"blobs_circles\", region_key=\"region\", instance_key=\"instance_id\")\n",
    "sdata_circles = SpatialData(shapes={\"blobs_circles\": sdata[\"blobs_circles\"]}, tables={\"table\": adata_circles})\n",
    "\n",
    "# let's add two numerical columns to the GeoDataFrame\n",
    "sdata_circles[\"blobs_circles\"][\"feature_m\"] = RNG.normal(size=(5))\n",
    "sdata_circles[\"blobs_circles\"][\"feature_n\"] = RNG.normal(size=(5))"
   ]
  },
  {
   "cell_type": "code",
   "execution_count": null,
   "metadata": {},
   "outputs": [],
   "source": [
    "import matplotlib.pyplot as plt\n",
    "\n",
    "fig, axs = plt.subplots(ncols=3, figsize=(12, 3))\n",
    "sdata_circles.pl.render_shapes(color=\"gene_h\").pl.show(ax=axs[0], title=\"gene_h\")\n",
    "# spatialdata-plot currently only supports plotting from the table: https://github.com/scverse/spatialdata-plot/issues/105\n",
    "# sdata_circles.pl.render_shapes(color=\"feature_m\").pl.show(ax=axs[1], title=\"feature_m\")\n",
    "sdata_circles.pl.render_shapes(color=\"categorical\").pl.show(ax=axs[2], title=\"categorical\")"
   ]
  },
  {
   "cell_type": "markdown",
   "metadata": {},
   "source": [
    "### Creating the squares object"
   ]
  },
  {
   "cell_type": "code",
   "execution_count": null,
   "metadata": {},
   "outputs": [],
   "source": [
    "import geopandas as gpd\n",
    "from shapely import linearrings, polygons\n",
    "from spatialdata.models import ShapesModel\n",
    "\n",
    "\n",
    "def _make_squares(centroid_coordinates: np.ndarray, half_widths: list[float]) -> polygons:\n",
    "    linear_rings = []\n",
    "    for centroid, half_width in zip(centroid_coordinates, half_widths):\n",
    "        min_coords = centroid - half_width\n",
    "        max_coords = centroid + half_width\n",
    "\n",
    "        linear_rings.append(\n",
    "            linearrings(\n",
    "                [\n",
    "                    [min_coords[0], min_coords[1]],\n",
    "                    [min_coords[0], max_coords[1]],\n",
    "                    [max_coords[0], max_coords[1]],\n",
    "                    [max_coords[0], min_coords[1]],\n",
    "                ]\n",
    "            )\n",
    "        )\n",
    "    s = polygons(linear_rings)\n",
    "    polygon_series = gpd.GeoSeries(s)\n",
    "    cell_polygon_table = gpd.GeoDataFrame(geometry=polygon_series)\n",
    "    return ShapesModel.parse(cell_polygon_table)\n",
    "\n",
    "\n",
    "sdata_squares = SpatialData(\n",
    "    shapes={\"squares\": _make_squares(np.atleast_2d([[100, 200], [400, 200]]), half_widths=[100, 80])}\n",
    ")"
   ]
  },
  {
   "cell_type": "code",
   "execution_count": null,
   "metadata": {},
   "outputs": [],
   "source": [
    "ax = plt.gca()\n",
    "\n",
    "sdata_squares.pl.render_shapes(\"squares\", na_color=\"red\", alpha=0.5).pl.show(ax=ax)\n",
    "sdata_circles.pl.render_shapes(\"blobs_circles\", alpha=0.5).pl.show(ax=ax)"
   ]
  },
  {
   "cell_type": "markdown",
   "metadata": {},
   "source": [
    "We will now aggregate the various quantities. Notice how the `value_key` can be used to aggregate values that are located in different places in the `SpatialData` object:\n",
    "1. matrix `X` of the `AnnData` table (names given by `.var_names`);\n",
    "2. `.obs` `DataFrame` of the `AnnData` table;\n",
    "3. columns of the `GeoDataFrame`.\n",
    "\n",
    "Notice also that the API deal both with numerical and categorical values, and can aggregate multiple numerical columns at the same time."
   ]
  },
  {
   "cell_type": "markdown",
   "metadata": {},
   "source": [
    "#### Case: `value_key` referring to `var_names`"
   ]
  },
  {
   "cell_type": "code",
   "execution_count": null,
   "metadata": {},
   "outputs": [],
   "source": [
    "from spatialdata import aggregate\n",
    "\n",
    "sdata_gene_exp = aggregate(\n",
    "    values_sdata=sdata_circles,\n",
    "    by_sdata=sdata_squares,\n",
    "    values=\"blobs_circles\",\n",
    "    by=\"squares\",\n",
    "    value_key=[\"gene_h\", \"gene_k\"],\n",
    "    table_name=\"table\",\n",
    ")\n",
    "print(sdata_gene_exp)\n",
    "print()\n",
    "print(sdata_gene_exp[\"table\"].var_names)"
   ]
  },
  {
   "cell_type": "markdown",
   "metadata": {},
   "source": [
    "#### Case: `value_key` referring to `obs` columns"
   ]
  },
  {
   "cell_type": "code",
   "execution_count": null,
   "metadata": {},
   "outputs": [],
   "source": [
    "sdata_feature = aggregate(\n",
    "    values_sdata=sdata_circles,\n",
    "    by_sdata=sdata_squares,\n",
    "    values=\"blobs_circles\",\n",
    "    by=\"squares\",\n",
    "    value_key=\"feature_m\",\n",
    ")\n",
    "print(sdata_feature)\n",
    "print()\n",
    "print(sdata_feature[\"table\"].var_names)"
   ]
  },
  {
   "cell_type": "markdown",
   "metadata": {},
   "source": [
    "#### Case: `value_key` referring to `GeoDataFrame` columns"
   ]
  },
  {
   "cell_type": "code",
   "execution_count": null,
   "metadata": {},
   "outputs": [],
   "source": [
    "sdata_categorical = aggregate(\n",
    "    values_sdata=sdata_circles,\n",
    "    by_sdata=sdata_squares,\n",
    "    values=\"blobs_circles\",\n",
    "    by=\"squares\",\n",
    "    value_key=\"categorical\",\n",
    ")\n",
    "print(sdata_categorical)\n",
    "print()\n",
    "print(sdata_categorical[\"table\"].var_names)"
   ]
  },
  {
   "cell_type": "code",
   "execution_count": null,
   "metadata": {},
   "outputs": [],
   "source": [
    "import matplotlib.pyplot as plt\n",
    "\n",
    "fig, axs = plt.subplots(ncols=3, figsize=(12, 3))\n",
    "\n",
    "sdata_gene_exp.pl.render_shapes(\"squares\", color=\"gene_h\", alpha=0.5).pl.show(ax=axs[0], title=\"gene_h\")\n",
    "\n",
    "sdata_feature.pl.render_shapes(\"squares\", color=\"feature_m\", alpha=0.5).pl.show(ax=axs[1], title=\"feature_m\")\n",
    "\n",
    "sdata_categorical.pl.render_shapes(\"squares\", color=\"a\", alpha=0.5).pl.show(ax=axs[2], title=\"categorical\")\n",
    "sdata_circles.pl.render_shapes(color=\"categorical\").pl.show(ax=axs[2], title=\"categorical\")"
   ]
  },
  {
   "cell_type": "markdown",
   "metadata": {},
   "source": [
    "### The method vs the function"
   ]
  },
  {
   "cell_type": "markdown",
   "metadata": {},
   "source": [
    "Above we used the `aggregate()` function. The method version is equivalent and it is a convenience function that simply fills in eventually missing values of `values_sdata` and `by_sdata` with `self`.\n",
    "\n",
    "So these two functions are equivalent:"
   ]
  },
  {
   "cell_type": "code",
   "execution_count": null,
   "metadata": {},
   "outputs": [],
   "source": [
    "res0 = aggregate(\n",
    "    values_sdata=sdata_circles,\n",
    "    by_sdata=sdata_squares,\n",
    "    values=\"blobs_circles\",\n",
    "    by=\"squares\",\n",
    "    value_key=\"feature_m\",\n",
    ")"
   ]
  },
  {
   "cell_type": "code",
   "execution_count": null,
   "metadata": {},
   "outputs": [],
   "source": [
    "res1 = sdata_circles.aggregate(\n",
    "    by_sdata=sdata_squares,\n",
    "    values=\"blobs_circles\",\n",
    "    by=\"squares\",\n",
    "    value_key=\"feature_m\",\n",
    ")"
   ]
  },
  {
   "cell_type": "markdown",
   "metadata": {},
   "source": [
    "One can also directly pass to `values` or `by` a `SpatialElement`. So also this is an equivalent call, except for the fact that now the string `squares` is never passed to `aggregate()`, so it will be used a default name for the name of the `SpatialElement`"
   ]
  },
  {
   "cell_type": "code",
   "execution_count": null,
   "metadata": {},
   "outputs": [],
   "source": [
    "res2 = sdata_circles.aggregate(\n",
    "    by=sdata_squares[\"squares\"],\n",
    "    values=\"blobs_circles\",\n",
    "    value_key=\"feature_m\",\n",
    ")"
   ]
  },
  {
   "cell_type": "code",
   "execution_count": null,
   "metadata": {},
   "outputs": [],
   "source": [
    "from anndata.tests.helpers import assert_equal\n",
    "\n",
    "assert_equal(res0[\"table\"], res1[\"table\"])\n",
    "assert_equal(res0[\"table\"].X, res2[\"table\"].X)"
   ]
  },
  {
   "cell_type": "code",
   "execution_count": null,
   "metadata": {},
   "outputs": [],
   "source": [
    "res0[\"table\"].obs"
   ]
  },
  {
   "cell_type": "code",
   "execution_count": null,
   "metadata": {},
   "outputs": [],
   "source": [
    "res2[\"table\"].obs"
   ]
  }
 ],
 "metadata": {
  "kernelspec": {
   "display_name": "Python 3 (ipykernel)",
   "language": "python",
   "name": "python3"
  },
  "language_info": {
   "codemirror_mode": {
    "name": "ipython",
    "version": 3
   },
   "file_extension": ".py",
   "mimetype": "text/x-python",
   "name": "python",
   "nbconvert_exporter": "python",
   "pygments_lexer": "ipython3",
   "version": "3.10.13"
  },
  "vscode": {
   "interpreter": {
    "hash": "ee4d5b535197dae0a4992124b5514302e65224b4d85c75a4ef4aca89a13d51e4"
   }
  }
 },
 "nbformat": 4,
 "nbformat_minor": 4
}
