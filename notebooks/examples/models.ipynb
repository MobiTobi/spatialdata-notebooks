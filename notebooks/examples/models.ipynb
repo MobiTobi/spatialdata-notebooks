{
 "cells": [
  {
   "cell_type": "markdown",
   "id": "d53ca9b3-2274-453c-926a-fdc29db35a1b",
   "metadata": {},
   "source": [
    "# Use SpatialData with your data"
   ]
  },
  {
   "cell_type": "markdown",
   "id": "1e8108ce-edb1-4440-a2fc-3448e22c7a98",
   "metadata": {},
   "source": [
    "The `spatialdata` framework has three ways to construct `SpatialData` objects:\n",
    "\n",
    "1. you can read a `SpatialData` object that has already been saved to `.zarr` in the SpatialData Zarr format;\n",
    "    1. from disk\n",
    "    2. from the cloud\n",
    "3. you can use the reader functions from `spatialdata-io`;\n",
    "4. you can construct a `SpatialData` object from scratch using our Python `spatialdata` APIs;\n",
    "\n",
    "This notebook will discuss all of them."
   ]
  },
  {
   "cell_type": "markdown",
   "id": "1e437e1c-3332-4353-b61d-44c2f2835ace",
   "metadata": {},
   "source": [
    "## Reading SpatialData `.zarr` data"
   ]
  },
  {
   "cell_type": "markdown",
   "id": "d14e54cb-d477-423d-bd03-cd3ae0af5041",
   "metadata": {},
   "source": [
    "### The distinction between Zarr, OME-NGFF and the SpatialData format"
   ]
  },
  {
   "cell_type": "markdown",
   "id": "a13579c4-bdff-4f5a-8023-4d302131802d",
   "metadata": {},
   "source": [
    "Let's start with a clarification on the storage format."
   ]
  },
  {
   "cell_type": "markdown",
   "id": "6b23a068-1b8a-4cab-bdd9-de56ffe715aa",
   "metadata": {},
   "source": [
    "[Zarr](https://zarr.dev/) is a storage format to save data on-disk or in the cloud in a performant and interoperble way. A Zarr object saved on-disk or in the cloud is referred to as a *Zarr store*. Effectively a *Zarr store* is not a file, but a folder containing data and metadata. Zarr is optimized to store tensor data (such as large images).\n",
    "\n",
    "[OME-NGFF](https://ngff.openmicroscopy.org/latest/) is a specification that describes how to structure the storage of bioimaging data and metadata. For instance it defines a community-agreed system for storing multiple resolutions for large images, and to divide them into smaller chunks. It also defines how to specify axes, coordinate systems and coordinate transformations to describe the spatial context of the data. OME-NGFF does not require to save the data to Zarr, but the most used implementation of the specification is in Zarr and is called [OME-Zarr](https://link.springer.com/article/10.1007/s00418-023-02209-1).\n",
    "\n",
    "The SpatialData Zarr format, which is described in our [design doc](https://spatialdata.scverse.org/en/latest/design_doc.html), is an extension of the OME-NGFF specification, which makes use of the OME-Zarr, the [AnnData Zarr](https://anndata.readthedocs.io/en/latest/fileformat-prose.html) and the [Parquet](https://parquet.apache.org/) file formats. We need to use these combination of technologies because currently OME-NGFF does not provide all the fundamentals required for storing spatial omics dataset; nevertheless, we try to stay as close as OME-NGFF as possible, and we are contributing to ultimately make spatial omics support available in pure OME-NGFF."
   ]
  },
  {
   "cell_type": "markdown",
   "id": "0d1be619-613c-4144-b627-c10e4fdb80cc",
   "metadata": {},
   "source": [
    "### Compatible `.zarr` stores\n",
    "`spatialdata` can read SpatialData Zarr data. Practically, this is data that has been previously saved using the `spatialdata` APIs in Python. Outside Python there are preliminary efforts to make possible to save SpatialData Zarr objects. For instance in R: https://github.com/HelenaLC/SpatialData (not yet ready!).\n",
    "\n",
    "### Non-compatible `.zarr` stores\n",
    "`spatialdata` cannot read arbitrary Zarr files, for instance the `feature_slice.zarr` file in Visium HD data is not a SpatialData Zarr file (we will see how to read Visium HD data later). `spatialdata` cannot read arbitrary OME-Zarr files (but eventually our aim would be to make every OME-Zarr file compatible)."
   ]
  },
  {
   "cell_type": "markdown",
   "id": "ec045f1f-5a96-4523-9997-015e5464e0fb",
   "metadata": {},
   "source": [
    "#### Example datasets"
   ]
  },
  {
   "cell_type": "markdown",
   "id": "1c3da750-cf52-4a7d-b4a1-d97fbdbfa320",
   "metadata": {},
   "source": [
    "You can download example SpatialData Zarr files [from our documentation](https://spatialdata.scverse.org/en/latest/tutorials/notebooks/datasets/README.html), example below."
   ]
  },
  {
   "cell_type": "markdown",
   "id": "3d169fe4-922d-428c-9fb8-7b5fdb106626",
   "metadata": {},
   "source": [
    "| Technology                                | Sample                                                    | File Size | Filename (spatialdata-sandbox) | download data                                                                                                     | license           |\n",
    "| :---------------------------------------- | :-------------------------------------------------------- | --------: | :----------------------------- | :---------------------------------------------------------------------------------------------- | :---------------- |\n",
    "| Visium HD                                 | Mouse intestin [^1]                                       |      1 GB | visium_hd_3.0.0_id             | [.zarr.zip](https://s3.embl.de/spatialdata/spatialdata-sandbox/visium_hd_3.0.0_io.zip)          | CCA               |\n",
    "| Visium                                    | Breast cancer [^2]                                        |    1.5 GB | visium_associated_xenium_io    | [.zarr.zip](https://s3.embl.de/spatialdata/spatialdata-sandbox/visium_associated_xenium_io.zip) | CCA               |\n",
    "| Xenium                                    | Breast cancer [^2]                                        |    2.8 GB | xenium_rep1_io                 | [.zarr.zip](https://s3.embl.de/spatialdata/spatialdata-sandbox/xenium_rep1_io.zip)              | CCA               |\n",
    "\n",
    "Sources.\n",
    "1. From https://www.10xgenomics.com/datasets/visium-hd-cytassist-gene-expression-libraries-of-mouse-intestine\n",
    "2. Janesick, A. et al. High resolution mapping of the breast cancer tumor microenvironment using integrated single cell, spatial and in situ analysis of FFPE tissue. bioRxiv 2022.10.06.510405 (2022) doi:10.1101/2022.10.06.510405."
   ]
  },
  {
   "cell_type": "markdown",
   "id": "15b1dd24-a06d-4312-afc3-8b53405399d6",
   "metadata": {},
   "source": [
    "### APIs to read SpatialData `.zarr` data from disk"
   ]
  },
  {
   "cell_type": "markdown",
   "id": "741fc87b-3b81-442a-a596-d053063cfa00",
   "metadata": {},
   "source": [
    "Here is an example of writing an in-memory example SpatialData object to SpatialData and then reading it again."
   ]
  },
  {
   "cell_type": "code",
   "execution_count": 6,
   "id": "12fa0995-02fc-4096-ab36-1786874b7a93",
   "metadata": {},
   "outputs": [
    {
     "name": "stderr",
     "output_type": "stream",
     "text": [
      "/Users/macbook/miniconda3/envs/ome/lib/python3.10/site-packages/shapely/predicates.py:853: RuntimeWarning: invalid value encountered in overlaps\n",
      "  return lib.overlaps(a, b, **kwargs)\n",
      "/Users/macbook/miniconda3/envs/ome/lib/python3.10/site-packages/anndata/_core/anndata.py:522: FutureWarning: The dtype argument is deprecated and will be removed in late 2024.\n",
      "  warnings.warn(\n",
      "/Users/macbook/embl/projects/basel/spatialdata/src/spatialdata/_core/operations/aggregate.py:260: UserWarning: Converting `region_key: region` to categorical dtype.\n",
      "  table = TableModel.parse(table, region=shapes_name, region_key=region_key, instance_key=instance_key)\n"
     ]
    },
    {
     "name": "stdout",
     "output_type": "stream",
     "text": [
      "SpatialData object with:\n",
      "├── Images\n",
      "│     ├── 'blobs_image': SpatialImage[cyx] (3, 512, 512)\n",
      "│     └── 'blobs_multiscale_image': MultiscaleSpatialImage[cyx] (3, 512, 512), (3, 256, 256), (3, 128, 128)\n",
      "├── Labels\n",
      "│     ├── 'blobs_labels': SpatialImage[yx] (512, 512)\n",
      "│     └── 'blobs_multiscale_labels': MultiscaleSpatialImage[yx] (512, 512), (256, 256), (128, 128)\n",
      "├── Points\n",
      "│     └── 'blobs_points': DataFrame with shape: (<Delayed>, 4) (2D points)\n",
      "├── Shapes\n",
      "│     ├── 'blobs_circles': GeoDataFrame shape: (5, 2) (2D shapes)\n",
      "│     ├── 'blobs_multipolygons': GeoDataFrame shape: (2, 1) (2D shapes)\n",
      "│     └── 'blobs_polygons': GeoDataFrame shape: (5, 1) (2D shapes)\n",
      "└── Tables\n",
      "      └── 'table': AnnData (26, 3)\n",
      "with coordinate systems:\n",
      "▸ 'global', with elements:\n",
      "        blobs_image (Images), blobs_multiscale_image (Images), blobs_labels (Labels), blobs_multiscale_labels (Labels), blobs_points (Points), blobs_circles (Shapes), blobs_multipolygons (Shapes), blobs_polygons (Shapes)\n",
      "\n",
      "SpatialData object with:\n",
      "├── Images\n",
      "│     ├── 'blobs_image': SpatialImage[cyx] (3, 512, 512)\n",
      "│     └── 'blobs_multiscale_image': MultiscaleSpatialImage[cyx] (3, 512, 512), (3, 256, 256), (3, 128, 128)\n",
      "├── Labels\n",
      "│     ├── 'blobs_labels': SpatialImage[yx] (512, 512)\n",
      "│     └── 'blobs_multiscale_labels': MultiscaleSpatialImage[yx] (512, 512), (256, 256), (128, 128)\n",
      "├── Points\n",
      "│     └── 'blobs_points': DataFrame with shape: (200, 4) (2D points)\n",
      "├── Shapes\n",
      "│     ├── 'blobs_circles': GeoDataFrame shape: (5, 2) (2D shapes)\n",
      "│     ├── 'blobs_multipolygons': GeoDataFrame shape: (2, 1) (2D shapes)\n",
      "│     └── 'blobs_polygons': GeoDataFrame shape: (5, 1) (2D shapes)\n",
      "└── Tables\n",
      "      └── 'table': AnnData (26, 3)\n",
      "with coordinate systems:\n",
      "▸ 'global', with elements:\n",
      "        blobs_image (Images), blobs_multiscale_image (Images), blobs_labels (Labels), blobs_multiscale_labels (Labels), blobs_points (Points), blobs_circles (Shapes), blobs_multipolygons (Shapes), blobs_polygons (Shapes)\n"
     ]
    }
   ],
   "source": [
    "from pathlib import Path\n",
    "from tempfile import TemporaryDirectory\n",
    "\n",
    "from spatialdata import SpatialData, read_zarr\n",
    "from spatialdata.datasets import blobs\n",
    "\n",
    "sdata = blobs()\n",
    "print(sdata)\n",
    "print()\n",
    "\n",
    "with TemporaryDirectory() as tmpdir:\n",
    "    f = Path(tmpdir) / \"data.zarr\"\n",
    "    sdata.write(f)\n",
    "    # 2 equivalent alternatives:\n",
    "    from_disk = read_zarr(f)\n",
    "    from_disk = SpatialData.read(f)\n",
    "    print(from_disk)"
   ]
  },
  {
   "cell_type": "markdown",
   "id": "1e4c0b08-9c0c-4781-a03c-34bd9a0b23a0",
   "metadata": {},
   "source": [
    "### APIs to read SpatialData `.zarr` data from the cloud\n",
    "Remote access of `.zarr` data is currently only partially supported, see more here: https://github.com/scverse/spatialdata/discussions/526."
   ]
  },
  {
   "cell_type": "markdown",
   "id": "a0075a91-36c4-46d4-b6b5-29c74685456c",
   "metadata": {},
   "source": [
    "## Reader functions from `spatialdata-io`"
   ]
  },
  {
   "cell_type": "code",
   "execution_count": null,
   "id": "863a62b9-ae8a-40ad-a2d3-f08cfe15b457",
   "metadata": {},
   "outputs": [],
   "source": []
  }
 ],
 "metadata": {
  "kernelspec": {
   "display_name": "Python 3 (ipykernel)",
   "language": "python",
   "name": "python3"
  },
  "language_info": {
   "codemirror_mode": {
    "name": "ipython",
    "version": 3
   },
   "file_extension": ".py",
   "mimetype": "text/x-python",
   "name": "python",
   "nbconvert_exporter": "python",
   "pygments_lexer": "ipython3",
   "version": "3.10.13"
  }
 },
 "nbformat": 4,
 "nbformat_minor": 5
}
