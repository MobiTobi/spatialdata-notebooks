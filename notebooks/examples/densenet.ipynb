{
 "cells": [
  {
   "cell_type": "markdown",
   "id": "f520cf14",
   "metadata": {},
   "source": [
    "# Deep learning example on image tiles"
   ]
  },
  {
   "cell_type": "markdown",
   "id": "d804ca4e-cde9-40aa-8d9d-a2c4ef31ca9f",
   "metadata": {},
   "source": [
    "We will show, as an example, how to train a Dense Net which predicts cell types Xenium data from an associated H&E image.\n",
    "\n",
    "In particular this example shows that:\n",
    "- We can easily access and combine images and annotations across different technologies. For the sake of the example here we use the H&E image from Visium data, and the cell type information from overlapping Xenium data. Remarkably, the two modalities are spatially aligned via an affine transformation.\n",
    "- We generate image tiles with full control of the spatial extent and the pixel resolution.\n",
    "- We interface with popular frameworks for deep learning: Monai and PyTorch Lightning."
   ]
  },
  {
   "cell_type": "code",
   "execution_count": 1,
   "id": "897f6dff-8bb1-413a-b90e-085444a4df31",
   "metadata": {
    "tags": []
   },
   "outputs": [],
   "source": [
    "%load_ext autoreload\n",
    "%autoreload 2"
   ]
  },
  {
   "cell_type": "code",
   "execution_count": 2,
   "id": "9a2330c4",
   "metadata": {
    "ExecuteTime": {
     "end_time": "2023-04-10T16:09:12.172308Z",
     "start_time": "2023-04-10T16:09:05.375252Z"
    },
    "collapsed": false,
    "jupyter": {
     "outputs_hidden": false
    }
   },
   "outputs": [],
   "source": [
    "import os\n",
    "from typing import Dict\n",
    "\n",
    "import numpy as np\n",
    "import pandas as pd\n",
    "import pytorch_lightning as pl\n",
    "import scanpy as sc\n",
    "import torch\n",
    "import torch.multiprocessing as mp\n",
    "import torch.nn.functional as F\n",
    "import torchvision\n",
    "from anndata import AnnData\n",
    "from monai.networks.nets import DenseNet121\n",
    "\n",
    "# from napari_spatialdata import Interactive\n",
    "from pytorch_lightning import LightningDataModule\n",
    "from pytorch_lightning.callbacks import LearningRateMonitor\n",
    "from pytorch_lightning.callbacks.progress import TQDMProgressBar\n",
    "from pytorch_lightning.loggers import CSVLogger\n",
    "from spatial_image import SpatialImage\n",
    "from spatialdata import SpatialData, read_zarr, transform\n",
    "from spatialdata.dataloader.datasets import ImageTilesDataset\n",
    "from spatialdata.transformations import get_transformation\n",
    "from torch.nn import CrossEntropyLoss\n",
    "from torch.optim import Adam\n",
    "from torch.utils.data import DataLoader\n",
    "from tqdm import tqdm\n",
    "\n",
    "mp.set_start_method(\"spawn\", force=True)"
   ]
  },
  {
   "cell_type": "markdown",
   "id": "88cad743",
   "metadata": {},
   "source": [
    "## Preparing the data"
   ]
  },
  {
   "cell_type": "markdown",
   "id": "35162c06-606c-40a6-ae86-bcc481a75083",
   "metadata": {},
   "source": [
    "### Getting the Zarr files"
   ]
  },
  {
   "cell_type": "markdown",
   "id": "01df1f51-29db-4955-8189-42648e5cd95e",
   "metadata": {},
   "source": [
    "We will need two Zarr files, one for Xenium data and one for Visium data. You can obtain these files by running [this notebook](https://github.com/scverse/spatialdata-notebooks/blob/main/notebooks/paper_reproducibility/xenium_and_visium.ipynb).\n",
    "\n",
    "Alternatively, you can download a zipped version of the data from here: [Xenium data](https://s3.embl.de/spatialdata/spatialdata-sandbox/xenium_rep1_io.zip), [Visium data](https://s3.embl.de/spatialdata/spatialdata-sandbox/visium_associated_xenium_io.zip). \n",
    "\n",
    "If you download the data, please make it discoverable in the paths specified next (you can use symlink to achieve this)."
   ]
  },
  {
   "cell_type": "code",
   "execution_count": 3,
   "id": "3bfd5433",
   "metadata": {
    "ExecuteTime": {
     "end_time": "2023-04-10T16:12:05.313258Z",
     "start_time": "2023-04-10T16:12:01.982115Z"
    },
    "collapsed": false,
    "jupyter": {
     "outputs_hidden": false
    }
   },
   "outputs": [
    {
     "name": "stdout",
     "output_type": "stream",
     "text": [
      "current working directory: /Users/macbook/embl/projects/basel/spatialdata-notebooks/notebooks/examples\n"
     ]
    }
   ],
   "source": [
    "print(\"current working directory:\", os.getcwd())\n",
    "SPATIALDATA_SANDBOX_PATH = \"../../../spatialdata-sandbox\"\n",
    "assert os.path.isdir(\n",
    "    SPATIALDATA_SANDBOX_PATH\n",
    "), f\"{SPATIALDATA_SANDBOX_PATH} not found, please use symlinks to make it available\"\n",
    "\n",
    "XENIUM_SDATA_PATH = os.path.join(SPATIALDATA_SANDBOX_PATH, \"xenium_rep1_io/data_aligned.zarr\")\n",
    "VISIUM_SDATA_PATH = os.path.join(SPATIALDATA_SANDBOX_PATH, \"visium_associated_xenium_io/data_aligned.zarr\")\n",
    "\n",
    "assert os.path.isdir(XENIUM_SDATA_PATH)\n",
    "assert os.path.isdir(VISIUM_SDATA_PATH)\n",
    "\n",
    "xenium_sdata = read_zarr(XENIUM_SDATA_PATH)\n",
    "visium_sdata = read_zarr(VISIUM_SDATA_PATH)\n",
    "\n",
    "assert \"celltype_major\" in xenium_sdata.table.obs, (\n",
    "    \"The Xenium data does not contain the cell types annotation; it seems that it refers to the Xenium\"\n",
    "    \"Zarr data that has not been processed with the analysis notebook we refer in the 'Getting the Zarr\"\n",
    "    \"files section'.\"\n",
    ")"
   ]
  },
  {
   "cell_type": "markdown",
   "id": "67a41fb9-6ff7-47f9-9758-1866d29414bb",
   "metadata": {},
   "source": [
    "Let's create a new `SpatialData` object with just the elements we are interest in. We will predict the Xenium cell types from the Visium image, so let's grab the cell circles and the table from the Xenium data, and the full resolution H&E image from Visium."
   ]
  },
  {
   "cell_type": "code",
   "execution_count": 4,
   "id": "26249ada-c8b6-4517-85e8-24a2c98ee88e",
   "metadata": {
    "tags": []
   },
   "outputs": [],
   "source": [
    "merged = SpatialData(\n",
    "    images={\n",
    "        \"CytAssist_FFPE_Human_Breast_Cancer_full_image\": visium_sdata.images[\n",
    "            \"CytAssist_FFPE_Human_Breast_Cancer_full_image\"\n",
    "        ],\n",
    "    },\n",
    "    shapes={\n",
    "        \"cell_circles\": xenium_sdata.shapes[\"cell_circles\"],\n",
    "        \"cell_boundaries\": xenium_sdata.shapes[\"cell_boundaries\"],\n",
    "    },\n",
    "    table=xenium_sdata.table,\n",
    ")"
   ]
  },
  {
   "cell_type": "markdown",
   "id": "bdbf0910-7ec2-4f0e-8b5a-8550a79cbf52",
   "metadata": {},
   "source": [
    "For the sake of reducing the computational requirements to run this example, let's spatially subset the data."
   ]
  },
  {
   "cell_type": "code",
   "execution_count": 5,
   "id": "e95f3e80-2d05-476b-a592-06fa4540daf8",
   "metadata": {
    "tags": []
   },
   "outputs": [
    {
     "name": "stderr",
     "output_type": "stream",
     "text": [
      "/Users/macbook/embl/projects/basel/spatialdata/src/spatialdata/_utils.py:212: ImplicitModificationWarning: Trying to modify attribute `.obs` of view, initializing view as actual.\n",
      "  obs[column] = c\n"
     ]
    }
   ],
   "source": [
    "min_coordinate = [12790, 12194]\n",
    "max_coordinate = [15100, 15221]\n",
    "merged = merged.query.bounding_box(\n",
    "    min_coordinate=min_coordinate,\n",
    "    max_coordinate=max_coordinate,\n",
    "    axes=[\"y\", \"x\"],\n",
    "    target_coordinate_system=\"aligned\",\n",
    ")"
   ]
  },
  {
   "cell_type": "code",
   "execution_count": 6,
   "id": "67b64e7d-126a-4453-a8a8-361a5392f436",
   "metadata": {
    "tags": []
   },
   "outputs": [
    {
     "data": {
      "text/plain": [
       "565.7894736842105"
      ]
     },
     "execution_count": 6,
     "metadata": {},
     "output_type": "execute_result"
    }
   ],
   "source": [
    "21500 / 38"
   ]
  },
  {
   "cell_type": "code",
   "execution_count": 7,
   "id": "e143969c-2065-4fb3-a0e8-a5b8cf0a2e5f",
   "metadata": {
    "tags": []
   },
   "outputs": [
    {
     "data": {
      "text/plain": [
       "SpatialData object with:\n",
       "├── Images\n",
       "│     ├── 'CytAssist_FFPE_Human_Breast_Cancer_full_image': MultiscaleSpatialImage[cyx] (3, 21571, 19505), (3, 10785, 9752), (3, 5392, 4876), (3, 2696, 2438), (3, 1348, 1219)\n",
       "│     ├── 'CytAssist_FFPE_Human_Breast_Cancer_hires_image': SpatialImage[cyx] (3, 2000, 1809)\n",
       "│     └── 'CytAssist_FFPE_Human_Breast_Cancer_lowres_image': SpatialImage[cyx] (3, 600, 543)\n",
       "├── Shapes\n",
       "│     └── 'CytAssist_FFPE_Human_Breast_Cancer': GeoDataFrame shape: (4992, 2) (2D shapes)\n",
       "└── Table\n",
       "      └── AnnData object with n_obs × n_vars = 4992 × 18085\n",
       "    obs: 'in_tissue', 'array_row', 'array_col', 'spot_id', 'region', 'dataset', 'clone'\n",
       "    var: 'gene_ids', 'feature_types', 'genome'\n",
       "    uns: 'spatial', 'spatialdata_attrs'\n",
       "    obsm: 'spatial': AnnData (4992, 18085)\n",
       "with coordinate systems:\n",
       "▸ 'aligned', with elements:\n",
       "        CytAssist_FFPE_Human_Breast_Cancer_full_image (Images), CytAssist_FFPE_Human_Breast_Cancer (Shapes)\n",
       "▸ 'downscaled_hires', with elements:\n",
       "        CytAssist_FFPE_Human_Breast_Cancer_hires_image (Images), CytAssist_FFPE_Human_Breast_Cancer (Shapes)\n",
       "▸ 'downscaled_lowres', with elements:\n",
       "        CytAssist_FFPE_Human_Breast_Cancer_lowres_image (Images), CytAssist_FFPE_Human_Breast_Cancer (Shapes)\n",
       "▸ 'global', with elements:\n",
       "        CytAssist_FFPE_Human_Breast_Cancer_full_image (Images), CytAssist_FFPE_Human_Breast_Cancer (Shapes)"
      ]
     },
     "execution_count": 7,
     "metadata": {},
     "output_type": "execute_result"
    }
   ],
   "source": [
    "visium_sdata"
   ]
  },
  {
   "cell_type": "raw",
   "id": "fea9872e-d371-454b-8db5-0f7932bd605e",
   "metadata": {
    "tags": []
   },
   "source": [
    "Interactive(merged)"
   ]
  },
  {
   "cell_type": "markdown",
   "id": "7327d496-ccff-4f7c-b8cb-5a3349b480e5",
   "metadata": {},
   "source": [
    "Here is a visualization of the image and cell type data. Notice how the Visium image is rotated with respect to the Xenium data."
   ]
  },
  {
   "cell_type": "markdown",
   "id": "58566471-3e2d-46a6-8966-af45650977c2",
   "metadata": {},
   "source": [
    "![image.png](attachments/dense_net_cell_types.png)"
   ]
  },
  {
   "cell_type": "markdown",
   "id": "a1cc2125-7c2a-48ff-ae3c-27c3c2224da9",
   "metadata": {},
   "source": [
    "Let's compute the mean Xenium cell diamater, we will use this to choose an appropriate image tile size."
   ]
  },
  {
   "cell_type": "code",
   "execution_count": 8,
   "id": "fd185945-bb1f-4563-88bf-7b0764b13a2e",
   "metadata": {
    "tags": []
   },
   "outputs": [],
   "source": [
    "circles = merged[\"cell_circles\"]\n",
    "t = get_transformation(circles, \"aligned\")\n",
    "\n",
    "transformed_circles = transform(circles, t)\n",
    "xenium_circles_diameter = 2 * np.mean(transformed_circles.radius)"
   ]
  },
  {
   "cell_type": "markdown",
   "id": "a1e5196a-7710-4e2b-a46f-163bd4d20d8e",
   "metadata": {},
   "source": [
    "Let's find the list of all the cell types we are dealing with."
   ]
  },
  {
   "cell_type": "code",
   "execution_count": 9,
   "id": "9d1931f5-a38c-44fc-953c-bdd173af1cd7",
   "metadata": {
    "tags": []
   },
   "outputs": [],
   "source": [
    "cell_types = merged.table.obs[\"celltype_major\"].cat.categories.tolist()"
   ]
  },
  {
   "cell_type": "markdown",
   "id": "82d318d5-fa03-45e5-8450-302667db121f",
   "metadata": {},
   "source": [
    "We now effortlessly define a PyTorch `Dataset` for the `SpatialData` object using the class `ImageTileDataset()`.\n",
    "\n",
    "In particular we want the following.\n",
    "* We want the tile size to be 32 x 32 pixels.\n",
    "* At the same time, we want each tile to have a spatial extent of 3 times the average Xenium cell diameter\n",
    "* For each tile we want to extract the value of the `celltype_major` categorical column and encode this into a one-hot vector. We will use the `torchvision` transforms paradigma for achieving this.\n",
    "\n",
    "\n",
    "**Technical note.**\n",
    "There are some limitations when using PyTorch inside a Jupyter Notebook. Here we would need a function, that we call `my_transform()`, that we would use to apply a data transformation to the dataset. The function can't be defined here in the notebook so we will import it from a separate `Python` file. For more details please see here: https://stackoverflow.com/a/65001152.\n",
    "\n",
    "Here is the function that we would like to define.\n",
    "```python\n",
    "def my_transform(sdata: SpatialData) -> tuple[torch.tensor, torch.tensor]:\n",
    "    tile = sdata['CytAssist_FFPE_Human_Breast_Cancer_full_image'].data.compute()\n",
    "    tile = torch.tensor(tile)\n",
    "    \n",
    "    expected_category = sdata.table.obs['celltype_major'].values[0]\n",
    "    expected_category = cell_types.index(expected_category)\n",
    "    cell_type = F.one_hot(\n",
    "        torch.tensor(expected_category), num_classes=len(cell_types)\n",
    "    )\n",
    "    return tile, cell_type\n",
    "```"
   ]
  },
  {
   "cell_type": "code",
   "execution_count": 10,
   "id": "bf889c1d-4125-4683-ba39-7a061849d44c",
   "metadata": {
    "tags": []
   },
   "outputs": [
    {
     "data": {
      "text/plain": [
       "(tensor([[[245., 255., 252.,  ..., 255., 255., 254.],\n",
       "          [253., 254., 251.,  ..., 254., 255., 255.],\n",
       "          [255., 254., 253.,  ..., 251., 252., 254.],\n",
       "          ...,\n",
       "          [253., 255., 255.,  ..., 255., 252., 253.],\n",
       "          [249., 254., 254.,  ..., 254., 250., 251.],\n",
       "          [242., 250., 250.,  ..., 254., 250., 255.]],\n",
       " \n",
       "         [[174., 188., 197.,  ..., 205., 203., 189.],\n",
       "          [188., 192., 197.,  ..., 203., 204., 189.],\n",
       "          [198., 197., 202.,  ..., 200., 204., 186.],\n",
       "          ...,\n",
       "          [195., 206., 205.,  ..., 218., 216., 177.],\n",
       "          [187., 198., 199.,  ..., 222., 212., 177.],\n",
       "          [180., 191., 193.,  ..., 223., 210., 187.]],\n",
       " \n",
       "         [[219., 230., 225.,  ..., 230., 237., 236.],\n",
       "          [228., 226., 223.,  ..., 229., 238., 237.],\n",
       "          [231., 225., 224.,  ..., 226., 238., 233.],\n",
       "          ...,\n",
       "          [233., 236., 236.,  ..., 237., 238., 213.],\n",
       "          [223., 230., 231.,  ..., 240., 233., 212.],\n",
       "          [213., 224., 226.,  ..., 239., 230., 221.]]]),\n",
       " tensor([0., 1., 0., 0., 0., 0., 0., 0., 0.]))"
      ]
     },
     "execution_count": 10,
     "metadata": {},
     "output_type": "execute_result"
    }
   ],
   "source": [
    "# let's import the above function\n",
    "from densenet_utils import my_transform\n",
    "\n",
    "dataset = ImageTilesDataset(\n",
    "    sdata=merged,\n",
    "    regions_to_images={\"cell_circles\": \"CytAssist_FFPE_Human_Breast_Cancer_full_image\"},\n",
    "    tile_dim_in_units=3 * xenium_circles_diameter,\n",
    "    tile_dim_in_pixels=32,\n",
    "    target_coordinate_system=\"aligned\",\n",
    "    transform=my_transform,\n",
    ")\n",
    "\n",
    "dataset[0]"
   ]
  },
  {
   "cell_type": "markdown",
   "id": "62641c09-186e-4ff0-ba0c-365e9bcd66aa",
   "metadata": {},
   "source": [
    "Let's now define a PyTorch Lightning data module to reduce the amount of boilerplate code we need to write."
   ]
  },
  {
   "cell_type": "code",
   "execution_count": 11,
   "id": "fe78581f",
   "metadata": {
    "collapsed": false,
    "jupyter": {
     "outputs_hidden": false
    }
   },
   "outputs": [],
   "source": [
    "class TilesDataModule(LightningDataModule):\n",
    "    def __init__(self, batch_size: int, num_workers: int, dataset: torch.utils.data.Dataset):\n",
    "        super().__init__()\n",
    "\n",
    "        self.batch_size = batch_size\n",
    "        self.num_workers = num_workers\n",
    "        self.dataset = dataset\n",
    "\n",
    "    def setup(self, stage=None):\n",
    "        n_train = int(len(self.dataset) * 0.7)\n",
    "        n_val = int(len(self.dataset) * 0.2)\n",
    "        n_test = len(self.dataset) - n_train - n_val\n",
    "        self.train, self.val, self.test = torch.utils.data.random_split(\n",
    "            self.dataset,\n",
    "            [n_train, n_val, n_test],\n",
    "            generator=torch.Generator().manual_seed(42),\n",
    "        )\n",
    "\n",
    "    def train_dataloader(self):\n",
    "        return DataLoader(\n",
    "            self.train,\n",
    "            batch_size=self.batch_size,\n",
    "            num_workers=self.num_workers,\n",
    "            shuffle=True,\n",
    "        )\n",
    "\n",
    "    def val_dataloader(self):\n",
    "        return DataLoader(\n",
    "            self.val,\n",
    "            batch_size=self.batch_size,\n",
    "            num_workers=self.num_workers,\n",
    "            shuffle=False,\n",
    "        )\n",
    "\n",
    "    def test_dataloader(self):\n",
    "        return DataLoader(\n",
    "            self.test,\n",
    "            batch_size=self.batch_size,\n",
    "            num_workers=self.num_workers,\n",
    "            shuffle=False,\n",
    "        )\n",
    "\n",
    "    def predict_dataloader(self):\n",
    "        return DataLoader(\n",
    "            self.dataset,\n",
    "            batch_size=self.batch_size,\n",
    "            num_workers=self.num_workers,\n",
    "            shuffle=False,\n",
    "        )"
   ]
  },
  {
   "cell_type": "markdown",
   "id": "ef6af2dd-2d1f-470f-b24a-7446cc04579a",
   "metadata": {},
   "source": [
    "Let's define the Dense Net, that we import from Monai."
   ]
  },
  {
   "cell_type": "code",
   "execution_count": 12,
   "id": "985aeabe-3dbe-4011-b1da-6f8b8bbabd38",
   "metadata": {
    "tags": []
   },
   "outputs": [],
   "source": [
    "class DenseNetModel(pl.LightningModule):\n",
    "    def __init__(self, learning_rate: float, in_channels: int, num_classes: int):\n",
    "        super().__init__()\n",
    "\n",
    "        # store hyperparameters\n",
    "        self.save_hyperparameters()\n",
    "\n",
    "        self.loss_function = CrossEntropyLoss()\n",
    "\n",
    "        # make the model\n",
    "        self.model = DenseNet121(spatial_dims=2, in_channels=in_channels, out_channels=num_classes)\n",
    "\n",
    "    def forward(self, x) -> torch.Tensor:\n",
    "        return self.model(x)\n",
    "\n",
    "    def _compute_loss_from_batch(self, batch: Dict[str, torch.Tensor], batch_idx: int) -> float:\n",
    "        inputs = batch[0]\n",
    "        labels = batch[1]\n",
    "\n",
    "        outputs = self.model(inputs)\n",
    "        return self.loss_function(outputs, labels)\n",
    "\n",
    "    def training_step(self, batch: Dict[str, torch.Tensor], batch_idx: int) -> Dict[str, float]:\n",
    "        # compute the loss\n",
    "        loss = self._compute_loss_from_batch(batch=batch, batch_idx=batch_idx)\n",
    "\n",
    "        # perform logging\n",
    "        self.log(\"training_loss\", loss, batch_size=len(batch[0]))\n",
    "\n",
    "        return {\"loss\": loss}\n",
    "\n",
    "    def validation_step(self, batch: Dict[str, torch.Tensor], batch_idx: int) -> float:\n",
    "        loss = self._compute_loss_from_batch(batch=batch, batch_idx=batch_idx)\n",
    "\n",
    "        imgs, labels = batch\n",
    "        acc = self.compute_accuracy(imgs, labels)\n",
    "        # By default logs it per epoch (weighted average over batches), and returns it afterwards\n",
    "        self.log(\"test_acc\", acc)\n",
    "\n",
    "        return loss\n",
    "\n",
    "    def test_step(self, batch, batch_idx):\n",
    "        imgs, labels = batch\n",
    "        acc = self.compute_accuracy(imgs, labels)\n",
    "        # By default logs it per epoch (weighted average over batches), and returns it afterwards\n",
    "        self.log(\"test_acc\", acc)\n",
    "\n",
    "    def predict_step(self, batch, batch_idx: int, dataloader_idx: int = 0):\n",
    "        imgs, labels = batch\n",
    "        preds = self.model(imgs).argmax(dim=-1)\n",
    "        return preds\n",
    "\n",
    "    def compute_accuracy(self, imgs, labels):\n",
    "        preds = self.model(imgs).argmax(dim=-1)\n",
    "        labels_value = torch.argmax(labels, dim=-1)\n",
    "        acc = (labels_value == preds).float().mean()\n",
    "        return acc\n",
    "\n",
    "    def configure_optimizers(self) -> Adam:\n",
    "        return Adam(self.model.parameters(), lr=self.hparams.learning_rate)"
   ]
  },
  {
   "cell_type": "markdown",
   "id": "c305c835-6c99-4f05-8cf4-aec8a5d21bfc",
   "metadata": {},
   "source": [
    "We are ready to train the model!"
   ]
  },
  {
   "cell_type": "code",
   "execution_count": 13,
   "id": "9cb9ac80-e693-4db6-88c0-624ce61a601a",
   "metadata": {
    "tags": []
   },
   "outputs": [
    {
     "name": "stderr",
     "output_type": "stream",
     "text": [
      "Seed set to 7\n"
     ]
    },
    {
     "name": "stdout",
     "output_type": "stream",
     "text": [
      "Using 64 batch size.\n",
      "Using 8 workers.\n"
     ]
    },
    {
     "name": "stderr",
     "output_type": "stream",
     "text": [
      "GPU available: True (mps), used: True\n",
      "TPU available: False, using: 0 TPU cores\n",
      "IPU available: False, using: 0 IPUs\n",
      "HPU available: False, using: 0 HPUs\n",
      "\n",
      "  | Name          | Type             | Params\n",
      "---------------------------------------------------\n",
      "0 | loss_function | CrossEntropyLoss | 0     \n",
      "1 | model         | DenseNet121      | 7.0 M \n",
      "---------------------------------------------------\n",
      "7.0 M     Trainable params\n",
      "0         Non-trainable params\n",
      "7.0 M     Total params\n",
      "27.852    Total estimated model params size (MB)\n"
     ]
    },
    {
     "name": "stdout",
     "output_type": "stream",
     "text": [
      "Sanity Checking: |                                                                                                | 0/? [00:00<?, ?it/s]"
     ]
    },
    {
     "name": "stderr",
     "output_type": "stream",
     "text": [
      "/Users/macbook/miniconda3/envs/ome/lib/python3.10/site-packages/pytorch_lightning/trainer/connectors/data_connector.py:436: Consider setting `persistent_workers=True` in 'val_dataloader' to speed up the dataloader worker initialization.\n"
     ]
    },
    {
     "name": "stdout",
     "output_type": "stream",
     "text": [
      "                                                                                                                                        \r"
     ]
    },
    {
     "name": "stderr",
     "output_type": "stream",
     "text": [
      "/Users/macbook/miniconda3/envs/ome/lib/python3.10/site-packages/pytorch_lightning/trainer/connectors/data_connector.py:436: Consider setting `persistent_workers=True` in 'train_dataloader' to speed up the dataloader worker initialization.\n"
     ]
    },
    {
     "name": "stdout",
     "output_type": "stream",
     "text": [
      "Epoch 0: 100%|█████████████████████████████████████████████████████████████████████████████████| 20/20 [00:10<00:00,  1.93it/s, v_num=2]\n",
      "Validation: |                                                                                                     | 0/? [00:00<?, ?it/s]\u001b[A\n",
      "Validation:   0%|                                                                                                 | 0/6 [00:00<?, ?it/s]\u001b[A\n",
      "Validation DataLoader 0:   0%|                                                                                    | 0/6 [00:00<?, ?it/s]\u001b[A\n",
      "Validation DataLoader 0:  83%|███████████████████████████████████████████████████████████████▎            | 5/6 [00:00<00:00, 13.76it/s]\u001b[A\n",
      "Validation DataLoader 0: 100%|████████████████████████████████████████████████████████████████████████████| 6/6 [00:01<00:00,  3.08it/s]\u001b[A\n",
      "Epoch 1: 100%|█████████████████████████████████████████████████████████████████████████████████| 20/20 [00:59<00:00,  0.34it/s, v_num=2]\u001b[A\n",
      "Validation: |                                                                                                     | 0/? [00:00<?, ?it/s]\u001b[A\n",
      "Validation:   0%|                                                                                                 | 0/6 [00:00<?, ?it/s]\u001b[A\n",
      "Validation DataLoader 0:   0%|                                                                                    | 0/6 [00:00<?, ?it/s]\u001b[A\n",
      "Validation DataLoader 0:  83%|███████████████████████████████████████████████████████████████▎            | 5/6 [00:00<00:00, 14.14it/s]\u001b[A\n",
      "Validation DataLoader 0: 100%|████████████████████████████████████████████████████████████████████████████| 6/6 [00:00<00:00, 13.81it/s]\u001b[A\n",
      "Epoch 1: 100%|█████████████████████████████████████████████████████████████████████████████████| 20/20 [01:45<00:00,  0.19it/s, v_num=2]\u001b[A"
     ]
    },
    {
     "name": "stderr",
     "output_type": "stream",
     "text": [
      "`Trainer.fit` stopped: `max_epochs=2` reached.\n"
     ]
    },
    {
     "name": "stdout",
     "output_type": "stream",
     "text": [
      "Epoch 1: 100%|█████████████████████████████████████████████████████████████████████████████████| 20/20 [01:45<00:00,  0.19it/s, v_num=2]\n"
     ]
    },
    {
     "name": "stderr",
     "output_type": "stream",
     "text": [
      "/Users/macbook/miniconda3/envs/ome/lib/python3.10/site-packages/pytorch_lightning/trainer/connectors/data_connector.py:436: Consider setting `persistent_workers=True` in 'test_dataloader' to speed up the dataloader worker initialization.\n"
     ]
    },
    {
     "name": "stdout",
     "output_type": "stream",
     "text": [
      "Testing DataLoader 0: 100%|███████████████████████████████████████████████████████████████████████████████| 3/3 [00:01<00:00,  1.76it/s]\n"
     ]
    },
    {
     "data": {
      "text/html": [
       "<pre style=\"white-space:pre;overflow-x:auto;line-height:normal;font-family:Menlo,'DejaVu Sans Mono',consolas,'Courier New',monospace\">┏━━━━━━━━━━━━━━━━━━━━━━━━━━━┳━━━━━━━━━━━━━━━━━━━━━━━━━━━┓\n",
       "┃<span style=\"font-weight: bold\">        Test metric        </span>┃<span style=\"font-weight: bold\">       DataLoader 0        </span>┃\n",
       "┡━━━━━━━━━━━━━━━━━━━━━━━━━━━╇━━━━━━━━━━━━━━━━━━━━━━━━━━━┩\n",
       "│<span style=\"color: #008080; text-decoration-color: #008080\">         test_acc          </span>│<span style=\"color: #800080; text-decoration-color: #800080\">    0.3571428656578064     </span>│\n",
       "└───────────────────────────┴───────────────────────────┘\n",
       "</pre>\n"
      ],
      "text/plain": [
       "┏━━━━━━━━━━━━━━━━━━━━━━━━━━━┳━━━━━━━━━━━━━━━━━━━━━━━━━━━┓\n",
       "┃\u001b[1m \u001b[0m\u001b[1m       Test metric       \u001b[0m\u001b[1m \u001b[0m┃\u001b[1m \u001b[0m\u001b[1m      DataLoader 0       \u001b[0m\u001b[1m \u001b[0m┃\n",
       "┡━━━━━━━━━━━━━━━━━━━━━━━━━━━╇━━━━━━━━━━━━━━━━━━━━━━━━━━━┩\n",
       "│\u001b[36m \u001b[0m\u001b[36m        test_acc         \u001b[0m\u001b[36m \u001b[0m│\u001b[35m \u001b[0m\u001b[35m   0.3571428656578064    \u001b[0m\u001b[35m \u001b[0m│\n",
       "└───────────────────────────┴───────────────────────────┘\n"
      ]
     },
     "metadata": {},
     "output_type": "display_data"
    }
   ],
   "source": [
    "import os\n",
    "\n",
    "import numpy as np\n",
    "import pytorch_lightning as pl\n",
    "import torch\n",
    "import torchvision\n",
    "from pytorch_lightning.callbacks import LearningRateMonitor\n",
    "from pytorch_lightning.callbacks.progress import TQDMProgressBar\n",
    "from pytorch_lightning.loggers import CSVLogger\n",
    "\n",
    "if __name__ == \"__main__\":\n",
    "    pl.seed_everything(7)\n",
    "\n",
    "    PATH_DATASETS = os.environ.get(\"PATH_DATASETS\", \"..\")\n",
    "    BATCH_SIZE = 4096 if torch.cuda.is_available() else 64\n",
    "    NUM_WORKERS = 10 if torch.cuda.is_available() else 8\n",
    "    print(f\"Using {BATCH_SIZE} batch size.\")\n",
    "    print(f\"Using {NUM_WORKERS} workers.\")\n",
    "\n",
    "    tiles_data_module = TilesDataModule(batch_size=BATCH_SIZE, num_workers=NUM_WORKERS, dataset=dataset)\n",
    "\n",
    "    tiles_data_module.setup()\n",
    "    train_dl = tiles_data_module.train_dataloader()\n",
    "    val_dl = tiles_data_module.val_dataloader()\n",
    "    test_dl = tiles_data_module.test_dataloader()\n",
    "\n",
    "    num_classes = len(cell_types)\n",
    "    in_channels = dataset[0][0].shape[0]\n",
    "\n",
    "    model = DenseNetModel(\n",
    "        learning_rate=1e-5,\n",
    "        in_channels=in_channels,\n",
    "        num_classes=num_classes,\n",
    "    )\n",
    "    import logging\n",
    "\n",
    "    logging.basicConfig(level=logging.INFO)\n",
    "\n",
    "    trainer = pl.Trainer(\n",
    "        max_epochs=2,\n",
    "        accelerator=\"auto\",\n",
    "        # devices=1,  # limiting got iPython runs. Edit: it works also without now\n",
    "        logger=CSVLogger(save_dir=\"logs/\"),\n",
    "        callbacks=[\n",
    "            LearningRateMonitor(logging_interval=\"step\"),\n",
    "            TQDMProgressBar(refresh_rate=5),\n",
    "        ],\n",
    "        log_every_n_steps=20,\n",
    "    )\n",
    "\n",
    "    trainer.fit(model, datamodule=tiles_data_module)\n",
    "    trainer.test(model, datamodule=tiles_data_module)"
   ]
  },
  {
   "cell_type": "code",
   "execution_count": 14,
   "id": "6780403d-6dcd-4414-b5fd-3aec0c48e2b5",
   "metadata": {},
   "outputs": [
    {
     "name": "stderr",
     "output_type": "stream",
     "text": [
      "GPU available: True (mps), used: True\n",
      "TPU available: False, using: 0 TPU cores\n",
      "IPU available: False, using: 0 IPUs\n",
      "HPU available: False, using: 0 HPUs\n",
      "/Users/macbook/miniconda3/envs/ome/lib/python3.10/site-packages/pytorch_lightning/trainer/connectors/logger_connector/logger_connector.py:67: Starting from v1.9.0, `tensorboardX` has been removed as a dependency of the `pytorch_lightning` package, due to potential conflicts with other packages in the ML ecosystem. For this reason, `logger=True` will use `CSVLogger` as the default logger, unless the `tensorboard` or `tensorboardX` packages are found. Please `pip install lightning[extra]` or one of them to enable TensorBoard support by default\n",
      "/Users/macbook/miniconda3/envs/ome/lib/python3.10/site-packages/pytorch_lightning/trainer/connectors/data_connector.py:436: Consider setting `persistent_workers=True` in 'predict_dataloader' to speed up the dataloader worker initialization.\n"
     ]
    },
    {
     "name": "stdout",
     "output_type": "stream",
     "text": [
      "Predicting DataLoader 0: 100%|██████████████████████████████████████████████████████████████████████████| 29/29 [00:04<00:00,  5.81it/s]\n",
      "(array([0, 1, 2, 3, 4, 5, 6, 7, 8]), array([ 71, 396,  64,  94, 279, 246,  17,  40, 605]))\n"
     ]
    }
   ],
   "source": [
    "# model = DenseNetModel.load_from_checkpoint('logs/lightning_logs/version_12/checkpoints/epoch=1-step=40.ckpt')\n",
    "\n",
    "# disable randomness, dropout, etc...\n",
    "model.eval()\n",
    "\n",
    "trainer = pl.Trainer(\n",
    "    accelerator=\"auto\",\n",
    "    devices=1,\n",
    "    callbacks=[\n",
    "        TQDMProgressBar(refresh_rate=10),\n",
    "    ],\n",
    ")\n",
    "\n",
    "predictions = trainer.predict(datamodule=tiles_data_module, model=model)\n",
    "predictions = torch.cat(predictions, dim=0)\n",
    "\n",
    "print(np.unique(predictions.detach().cpu().numpy(), return_counts=True))"
   ]
  },
  {
   "cell_type": "code",
   "execution_count": 15,
   "id": "fd9bfecf-627b-4439-8aff-87ad7e5d75dd",
   "metadata": {},
   "outputs": [],
   "source": [
    "p = predictions.detach().cpu().numpy()\n",
    "predicted_celltype_major = []\n",
    "for i in p:\n",
    "    predicted_celltype_major.append(cell_types[i])\n",
    "s = pd.Series(predicted_celltype_major)\n",
    "categorical = pd.Categorical(s, categories=cell_types)\n",
    "\n",
    "categorical.index = merged.table.obs.index\n",
    "merged.table.obs[\"predicted_celltype_major\"] = categorical"
   ]
  },
  {
   "cell_type": "markdown",
   "id": "4435c355-a6b8-417f-a4dc-1ad8a1544d6c",
   "metadata": {},
   "source": [
    "Here are the precitions from the model."
   ]
  },
  {
   "cell_type": "markdown",
   "id": "6572bcd7-cb56-4467-a161-936a8de63d05",
   "metadata": {},
   "source": [
    "![image.png](attachments/dense_net_predicted.png)"
   ]
  },
  {
   "cell_type": "code",
   "execution_count": 16,
   "id": "0dc86d0f-a718-47d0-bf23-eb3f4de61d44",
   "metadata": {
    "tags": []
   },
   "outputs": [
    {
     "data": {
      "text/plain": [
       "SpatialData object with:\n",
       "├── Images\n",
       "│     └── 'CytAssist_FFPE_Human_Breast_Cancer_full_image': MultiscaleSpatialImage[cyx] (3, 1213, 952), (3, 607, 476), (3, 303, 238), (3, 152, 119), (3, 76, 60)\n",
       "├── Shapes\n",
       "│     ├── 'cell_boundaries': GeoDataFrame shape: (1733, 1) (2D shapes)\n",
       "│     └── 'cell_circles': GeoDataFrame shape: (1812, 2) (2D shapes)\n",
       "└── Table\n",
       "      └── AnnData object with n_obs × n_vars = 1812 × 313\n",
       "    obs: 'cell_id', 'transcript_counts', 'control_probe_counts', 'control_codeword_counts', 'total_counts', 'cell_area', 'nucleus_area', 'region', 'dataset', 'celltype_major', 'celltype_minor', 'predicted_celltype_major'\n",
       "    var: 'gene_ids', 'feature_types', 'genome'\n",
       "    uns: 'spatialdata_attrs'\n",
       "    obsm: 'spatial': AnnData (1812, 313)\n",
       "with coordinate systems:\n",
       "▸ 'aligned', with elements:\n",
       "        CytAssist_FFPE_Human_Breast_Cancer_full_image (Images), cell_boundaries (Shapes), cell_circles (Shapes)\n",
       "▸ 'global', with elements:\n",
       "        CytAssist_FFPE_Human_Breast_Cancer_full_image (Images), cell_boundaries (Shapes), cell_circles (Shapes)"
      ]
     },
     "execution_count": 16,
     "metadata": {},
     "output_type": "execute_result"
    }
   ],
   "source": [
    "merged"
   ]
  },
  {
   "cell_type": "code",
   "execution_count": 17,
   "id": "3d8bd8a7-a29d-4915-8ca7-68f8c7aa603c",
   "metadata": {
    "tags": []
   },
   "outputs": [],
   "source": [
    "adata_polygons = merged.table.copy()"
   ]
  },
  {
   "cell_type": "code",
   "execution_count": 18,
   "id": "2850fad0-6ad9-46d3-8d14-3806ad298688",
   "metadata": {
    "tags": []
   },
   "outputs": [],
   "source": [
    "adata_polygons.uns[\"spatialdata_attrs\"][\"region\"] = \"cell_boundaries\"\n",
    "adata_polygons.obs[\"region\"] = \"cell_boundaries\"\n",
    "\n",
    "del merged.table\n",
    "merged.table = adata_polygons"
   ]
  },
  {
   "cell_type": "raw",
   "id": "60697d4a-6081-40b7-82f1-ea58bc1032bf",
   "metadata": {
    "tags": []
   },
   "source": [
    "adata_polygons.uns['spatialdata_attrs']['region'] = 'cell_circles'\n",
    "adata_polygons.obs['region'] = 'cell_circles'\n",
    "\n",
    "del merged.table\n",
    "merged.table = adata_polygons"
   ]
  },
  {
   "cell_type": "raw",
   "id": "cafcace6-2d2e-491e-8d2d-f3144d7e56ac",
   "metadata": {
    "tags": []
   },
   "source": [
    "Interactive(merged)"
   ]
  },
  {
   "cell_type": "markdown",
   "id": "db8aa588-aff8-4d59-a159-934a86342645",
   "metadata": {},
   "source": [
    "## Graphics for the paper"
   ]
  },
  {
   "cell_type": "code",
   "execution_count": 19,
   "id": "2b9f19e1-0499-46bd-8e70-8319c0677ede",
   "metadata": {
    "tags": []
   },
   "outputs": [
    {
     "name": "stderr",
     "output_type": "stream",
     "text": [
      "/Users/macbook/embl/projects/basel/spatialdata/src/spatialdata/_utils.py:212: ImplicitModificationWarning: Trying to modify attribute `.obs` of view, initializing view as actual.\n",
      "  obs[column] = c\n"
     ]
    },
    {
     "data": {
      "text/plain": [
       "SpatialData object with:\n",
       "├── Images\n",
       "│     └── 'CytAssist_FFPE_Human_Breast_Cancer_full_image': MultiscaleSpatialImage[cyx] (3, 79, 73), (3, 40, 36), (3, 20, 18), (3, 10, 9), (3, 5, 4)\n",
       "├── Shapes\n",
       "│     ├── 'cell_boundaries': GeoDataFrame shape: (4, 1) (2D shapes)\n",
       "│     └── 'cell_circles': GeoDataFrame shape: (8, 2) (2D shapes)\n",
       "└── Table\n",
       "      └── AnnData object with n_obs × n_vars = 4 × 313\n",
       "    obs: 'cell_id', 'transcript_counts', 'control_probe_counts', 'control_codeword_counts', 'total_counts', 'cell_area', 'nucleus_area', 'region', 'dataset', 'celltype_major', 'celltype_minor', 'predicted_celltype_major'\n",
       "    var: 'gene_ids', 'feature_types', 'genome'\n",
       "    uns: 'spatialdata_attrs'\n",
       "    obsm: 'spatial': AnnData (4, 313)\n",
       "with coordinate systems:\n",
       "▸ 'aligned', with elements:\n",
       "        CytAssist_FFPE_Human_Breast_Cancer_full_image (Images), cell_boundaries (Shapes), cell_circles (Shapes)\n",
       "▸ 'global', with elements:\n",
       "        CytAssist_FFPE_Human_Breast_Cancer_full_image (Images), cell_boundaries (Shapes), cell_circles (Shapes)"
      ]
     },
     "execution_count": 19,
     "metadata": {},
     "output_type": "execute_result"
    }
   ],
   "source": [
    "x = np.array([13694.0, 13889.0, 13889.0, 13694.0, 13694.0])\n",
    "y = np.array([13984.0, 13984.0, 14162.0, 14162.0, 13984.0])\n",
    "\n",
    "small_sdata = merged.query.bounding_box(\n",
    "    axes=(\"x\", \"y\"),\n",
    "    min_coordinate=[np.min(x), np.min(y)],\n",
    "    max_coordinate=[np.max(x), np.max(y)],\n",
    "    target_coordinate_system=\"aligned\",\n",
    ")\n",
    "small_sdata"
   ]
  },
  {
   "cell_type": "raw",
   "id": "99298a5e-b07c-4f10-9d9e-4a225a96b478",
   "metadata": {
    "tags": []
   },
   "source": [
    "Interactive(small_sdata)"
   ]
  },
  {
   "cell_type": "code",
   "execution_count": 20,
   "id": "45e364df-5c62-479a-b026-e28d1d92accc",
   "metadata": {
    "tags": []
   },
   "outputs": [],
   "source": [
    "small_dataset = ImageTilesDataset(\n",
    "    sdata=small_sdata,\n",
    "    regions_to_images={\"cell_boundaries\": \"CytAssist_FFPE_Human_Breast_Cancer_full_image\"},\n",
    "    tile_dim_in_units=3 * xenium_circles_diameter,\n",
    "    tile_dim_in_pixels=32,\n",
    "    target_coordinate_system=\"aligned\",\n",
    "    transform=None,\n",
    ")"
   ]
  },
  {
   "cell_type": "code",
   "execution_count": 21,
   "id": "61cfb227-84c4-42d1-8a90-db0b1fe7ff51",
   "metadata": {
    "tags": []
   },
   "outputs": [
    {
     "data": {
      "text/plain": [
       "SpatialData object with:\n",
       "├── Images\n",
       "│     └── 'CytAssist_FFPE_Human_Breast_Cancer_full_image': SpatialImage[cyx] (3, 32, 32)\n",
       "├── Shapes\n",
       "│     └── 'cell_boundaries': GeoDataFrame shape: (1, 1) (2D shapes)\n",
       "└── Table\n",
       "      └── AnnData object with n_obs × n_vars = 1 × 313\n",
       "    obs: 'cell_id', 'transcript_counts', 'control_probe_counts', 'control_codeword_counts', 'total_counts', 'cell_area', 'nucleus_area', 'region', 'dataset', 'celltype_major', 'celltype_minor', 'predicted_celltype_major'\n",
       "    var: 'gene_ids', 'feature_types', 'genome'\n",
       "    uns: 'spatialdata_attrs'\n",
       "    obsm: 'spatial': AnnData (1, 313)\n",
       "with coordinate systems:\n",
       "▸ 'aligned', with elements:\n",
       "        CytAssist_FFPE_Human_Breast_Cancer_full_image (Images), cell_boundaries (Shapes)\n",
       "▸ 'global', with elements:\n",
       "        cell_boundaries (Shapes)"
      ]
     },
     "execution_count": 21,
     "metadata": {},
     "output_type": "execute_result"
    }
   ],
   "source": [
    "small_dataset[0]"
   ]
  },
  {
   "cell_type": "code",
   "execution_count": 41,
   "id": "345fa36d-9d2e-4e82-ad69-f8150b76c4f9",
   "metadata": {
    "tags": []
   },
   "outputs": [
    {
     "data": {
      "image/png": "[encoded data removed]",
      "text/plain": [
       "<Figure size 1500x300 with 4 Axes>"
      ]
     },
     "metadata": {},
     "output_type": "display_data"
    }
   ],
   "source": [
    "import matplotlib.pyplot as plt\n",
    "import spatialdata as sd\n",
    "import spatialdata_plot\n",
    "\n",
    "n = len(small_dataset)\n",
    "axes = plt.subplots(1, n, figsize=(15, 3))[1]\n",
    "for sdata_tile, i in zip(small_dataset, range(n)):\n",
    "    # BUG: we need to explicitly remove the coordinate system global if we want to combine images and shapes plots into a single subplot\n",
    "    if \"global\" in get_transformation(sdata_tile[\"cell_boundaries\"], get_all=True):\n",
    "        sd.transformations.remove_transformation(sdata_tile[\"cell_boundaries\"], \"global\")\n",
    "    sdata_tile.pl.render_images().pl.render_shapes(outline_width=3.0, outline=True, fill_alpha=0.0).pl.show(ax=axes[i])"
   ]
  }
 ],
 "metadata": {
  "kernelspec": {
   "display_name": "Python 3 (ipykernel)",
   "language": "python",
   "name": "python3"
  },
  "language_info": {
   "codemirror_mode": {
    "name": "ipython",
    "version": 3
   },
   "file_extension": ".py",
   "mimetype": "text/x-python",
   "name": "python",
   "nbconvert_exporter": "python",
   "pygments_lexer": "ipython3",
   "version": "3.10.12"
  }
 },
 "nbformat": 4,
 "nbformat_minor": 5
}
