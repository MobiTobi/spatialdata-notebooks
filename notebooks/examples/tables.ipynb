{
 "cells": [
  {
   "cell_type": "markdown",
   "source": [
    "# Tables in SpatialData\n",
    "\n",
    "## Intro\n",
    "SpatialData supports storing the annotations of `SpatialElement`s by using `AnnData` tables. These tables either annotate one or more `SpatialElement`s at the same time or no element at all. The latter can be useful when for example storing a codebook. Multiple tables can be stored in the `SpatialData` object Here we will show the following using the blobs dataset in SpatialData as an example dataset:\n",
    "\n",
    "1. How to retrieve information on what elements a table is annotating.\n",
    "2. How to change the annotation metadata of a table\n",
    "3. How to construct tables that either annotate or do not annotate `SpatialElement`s and how to add them to the SpatialData object.\n",
    "4. How to perform SQL like joins on tables and `SpatialElement`s in a `SpatialData` object.\n",
    "\n",
    "## Tables annotating SpatialElements\n",
    "\n",
    "### Retrieving information existing tables in SpatialData object\n",
    "We first will show how to retrieve information from an already existing table in a `SpatialData` object"
   ],
   "metadata": {
    "collapsed": false
   },
   "id": "ebdd1526507f7e90"
  },
  {
   "cell_type": "code",
   "execution_count": 1,
   "outputs": [
    {
     "name": "stderr",
     "output_type": "stream",
     "text": [
      "C:\\ProgramData\\miniforge3\\envs\\sdata_310\\lib\\site-packages\\anndata\\_core\\anndata.py:430: FutureWarning: The dtype argument is deprecated and will be removed in late 2024.\n",
      "  warnings.warn(\n",
      "C:\\Users\\w-mv\\PycharmProjects\\spatialdata\\src\\spatialdata\\_core\\operations\\aggregate.py:260: UserWarning: Converting `region_key: region` to categorical dtype.\n",
      "  table = TableModel.parse(table, region=shapes_name, region_key=region_key, instance_key=instance_key)\n"
     ]
    },
    {
     "data": {
      "text/plain": "SpatialData object with:\n├── Images\n│     ├── 'blobs_image': SpatialImage[cyx] (3, 512, 512)\n│     └── 'blobs_multiscale_image': MultiscaleSpatialImage[cyx] (3, 512, 512), (3, 256, 256), (3, 128, 128)\n├── Labels\n│     ├── 'blobs_labels': SpatialImage[yx] (512, 512)\n│     └── 'blobs_multiscale_labels': MultiscaleSpatialImage[yx] (512, 512), (256, 256), (128, 128)\n├── Points\n│     └── 'blobs_points': DataFrame with shape: (<Delayed>, 4) (2D points)\n├── Shapes\n│     ├── 'blobs_circles': GeoDataFrame shape: (5, 2) (2D shapes)\n│     ├── 'blobs_multipolygons': GeoDataFrame shape: (2, 1) (2D shapes)\n│     └── 'blobs_polygons': GeoDataFrame shape: (5, 1) (2D shapes)\n└── Tables\n      └── 'table': AnnData (26, 3)\nwith coordinate systems:\n▸ 'global', with elements:\n        blobs_image (Images), blobs_multiscale_image (Images), blobs_labels (Labels), blobs_multiscale_labels (Labels), blobs_points (Points), blobs_circles (Shapes), blobs_multipolygons (Shapes), blobs_polygons (Shapes)"
     },
     "execution_count": 1,
     "metadata": {},
     "output_type": "execute_result"
    }
   ],
   "source": [
    "from spatialdata.datasets import blobs\n",
    "\n",
    "sdata = blobs()\n",
    "sdata"
   ],
   "metadata": {
    "collapsed": false,
    "ExecuteTime": {
     "end_time": "2024-03-25T15:37:35.172584400Z",
     "start_time": "2024-03-25T15:37:31.548032900Z"
    }
   },
   "id": "3775527514eac947"
  },
  {
   "cell_type": "markdown",
   "source": [
    "Blobs contains one table. Let's see what it is annotating."
   ],
   "metadata": {
    "collapsed": false
   },
   "id": "7bd1bac77b593943"
  },
  {
   "cell_type": "code",
   "execution_count": 2,
   "outputs": [
    {
     "name": "stdout",
     "output_type": "stream",
     "text": [
      "blobs_labels region instance_id\n"
     ]
    }
   ],
   "source": [
    "from spatialdata.models import get_table_keys\n",
    "\n",
    "regions, region_column_name, instance_key_column_name = get_table_keys(sdata[\"table\"])\n",
    "print(regions, region_column_name, instance_key_column_name)"
   ],
   "metadata": {
    "collapsed": false,
    "ExecuteTime": {
     "end_time": "2024-03-25T15:37:38.330760900Z",
     "start_time": "2024-03-25T15:37:38.323762700Z"
    }
   },
   "id": "8f0769961cb3ab3a"
  },
  {
   "cell_type": "markdown",
   "source": [
    "We can see that this information is present in `sdata[\"table\"].obs`. Here `regions` are the names of the `SpatialElement`s being annotated, the `region_column_name` corresponds to the column in `.obs` containing per row which `SpatialElement` is annotated by that row and the `instance_key_column_name` specifies the column with per row the information which `index` of the `SpatialElement` the table is annotating."
   ],
   "metadata": {
    "collapsed": false
   },
   "id": "d586de1a75157d31"
  },
  {
   "cell_type": "code",
   "execution_count": 3,
   "outputs": [
    {
     "data": {
      "text/plain": "   instance_id        region\n1            1  blobs_labels\n2            2  blobs_labels\n3            3  blobs_labels\n4            4  blobs_labels\n5            5  blobs_labels",
      "text/html": "<div>\n<style scoped>\n    .dataframe tbody tr th:only-of-type {\n        vertical-align: middle;\n    }\n\n    .dataframe tbody tr th {\n        vertical-align: top;\n    }\n\n    .dataframe thead th {\n        text-align: right;\n    }\n</style>\n<table border=\"1\" class=\"dataframe\">\n  <thead>\n    <tr style=\"text-align: right;\">\n      <th></th>\n      <th>instance_id</th>\n      <th>region</th>\n    </tr>\n  </thead>\n  <tbody>\n    <tr>\n      <th>1</th>\n      <td>1</td>\n      <td>blobs_labels</td>\n    </tr>\n    <tr>\n      <th>2</th>\n      <td>2</td>\n      <td>blobs_labels</td>\n    </tr>\n    <tr>\n      <th>3</th>\n      <td>3</td>\n      <td>blobs_labels</td>\n    </tr>\n    <tr>\n      <th>4</th>\n      <td>4</td>\n      <td>blobs_labels</td>\n    </tr>\n    <tr>\n      <th>5</th>\n      <td>5</td>\n      <td>blobs_labels</td>\n    </tr>\n  </tbody>\n</table>\n</div>"
     },
     "execution_count": 3,
     "metadata": {},
     "output_type": "execute_result"
    }
   ],
   "source": [
    "sdata[\"table\"].obs.head()"
   ],
   "metadata": {
    "collapsed": false,
    "ExecuteTime": {
     "end_time": "2024-03-25T15:37:41.046284700Z",
     "start_time": "2024-03-25T15:37:41.027241300Z"
    }
   },
   "id": "1eea2cf6278d1ef6"
  },
  {
   "cell_type": "markdown",
   "source": [
    "If we want to retrieve either of the three, there are three helper functions that allow for this, namely `get_annotated_regions`, `get_region_key_column` and `get_instance_key_column`. Either of these take only the `AnnData`table as an argument. Below we show an example:"
   ],
   "metadata": {
    "collapsed": false
   },
   "id": "e7ee995b9b0a5d50"
  },
  {
   "cell_type": "code",
   "execution_count": 4,
   "outputs": [
    {
     "name": "stdout",
     "output_type": "stream",
     "text": [
      "1    blobs_labels\n",
      "2    blobs_labels\n",
      "3    blobs_labels\n",
      "4    blobs_labels\n",
      "5    blobs_labels\n",
      "Name: region, dtype: category\n",
      "Categories (1, object): ['blobs_labels']\n"
     ]
    }
   ],
   "source": [
    "from spatialdata import SpatialData as sd\n",
    "\n",
    "region_column = sd.get_region_key_column(sdata[\"table\"])\n",
    "print(region_column.head())"
   ],
   "metadata": {
    "collapsed": false,
    "ExecuteTime": {
     "end_time": "2024-03-25T15:37:43.716134100Z",
     "start_time": "2024-03-25T15:37:43.710086100Z"
    }
   },
   "id": "c6a2e3dd29e9ae5c"
  },
  {
   "cell_type": "markdown",
   "source": [
    "## Changing the annotation target of a table\n",
    "We have a helper function, `set_table_annotates_element` to change the metadata regarding the annotation target of table in a `SpatialData` object. This function takes as arguments the `table_name`, `region` and optionally the `region_key` and `instance_key`. The latter two don't have to necessarily be specified if the table is already annotating a `SpatialElement`. The current values will be reused if not specified. For any of the arguments specified, they must be present at their respective location in the `SpatialData`object or table."
   ],
   "metadata": {
    "collapsed": false
   },
   "id": "9d7878b97f37adf"
  },
  {
   "cell_type": "code",
   "execution_count": 5,
   "outputs": [],
   "source": [
    "sdata[\"table\"].obs[\"region\"] = \"blobs_circles\"\n",
    "sdata.set_table_annotates_spatialelement(\"table\", region=\"blobs_circles\")"
   ],
   "metadata": {
    "collapsed": false,
    "ExecuteTime": {
     "end_time": "2024-03-25T15:37:46.842853400Z",
     "start_time": "2024-03-25T15:37:46.835854Z"
    }
   },
   "id": "ea0879b229cebd1b"
  },
  {
   "cell_type": "markdown",
   "source": [
    "## Constructing and adding tables to a SpatialData object\n",
    "Tables in `Spatialdata` are `AnnData` tables. Creating a table that does not annotate a `SpatialElement` is as simple as constructing an `Anndata` table. In this case the table should not contain `region`, `region_key` and `instance_key` metadata. Here an example of a table storing a dummy codebook:"
   ],
   "metadata": {
    "collapsed": false
   },
   "id": "7a1bbc9c648f5b55"
  },
  {
   "cell_type": "code",
   "execution_count": 6,
   "outputs": [
    {
     "data": {
      "text/plain": "    Gene barcode\n0  Gene1   03210\n1  Gene2   23013\n2  Gene3   30121",
      "text/html": "<div>\n<style scoped>\n    .dataframe tbody tr th:only-of-type {\n        vertical-align: middle;\n    }\n\n    .dataframe tbody tr th {\n        vertical-align: top;\n    }\n\n    .dataframe thead th {\n        text-align: right;\n    }\n</style>\n<table border=\"1\" class=\"dataframe\">\n  <thead>\n    <tr style=\"text-align: right;\">\n      <th></th>\n      <th>Gene</th>\n      <th>barcode</th>\n    </tr>\n  </thead>\n  <tbody>\n    <tr>\n      <th>0</th>\n      <td>Gene1</td>\n      <td>03210</td>\n    </tr>\n    <tr>\n      <th>1</th>\n      <td>Gene2</td>\n      <td>23013</td>\n    </tr>\n    <tr>\n      <th>2</th>\n      <td>Gene3</td>\n      <td>30121</td>\n    </tr>\n  </tbody>\n</table>\n</div>"
     },
     "execution_count": 6,
     "metadata": {},
     "output_type": "execute_result"
    }
   ],
   "source": [
    "from anndata import AnnData\n",
    "from spatialdata.models import TableModel\n",
    "\n",
    "codebook_table = AnnData(obs={\"Gene\": [\"Gene1\", \"Gene2\", \"Gene3\"], \"barcode\": [\"03210\", \"23013\", \"30121\"]})\n",
    "\n",
    "# We don't specify arguments related to metadata as we don't annotate a SpatialElement.\n",
    "sdata_table = TableModel.parse(codebook_table)\n",
    "sdata[\"codebook\"] = sdata_table\n",
    "sdata[\"codebook\"].obs"
   ],
   "metadata": {
    "collapsed": false,
    "ExecuteTime": {
     "end_time": "2024-03-25T15:37:50.022411400Z",
     "start_time": "2024-03-25T15:37:50.012411200Z"
    }
   },
   "id": "b2e911c18e3b63be"
  },
  {
   "cell_type": "markdown",
   "source": [
    "Now let us create a table that annotates multiple `SpatialElement`s. Note that the order of \n",
    "the indices does not have to match the order of the indices in the `SpatialElement`. To \n",
    "showcase this we perform a permutation of the indices. Also, the `dtype`of the index column \n",
    "of the `SpatialElement` must match the `dtype` of the `instance_key` column in the table. If \n",
    "this is not the case this will result in an error when trying to add the table to the \n",
    "`SpatialData` object. Lastly, not every index of the `SpatialElement` has to be present in \n",
    "the `instance_key` column of the `SpatialData` table and vice versa. We will later show \n",
    "functions to deal with these cases."
   ],
   "metadata": {
    "collapsed": false
   },
   "id": "b995423b24d8c643"
  },
  {
   "cell_type": "code",
   "execution_count": 7,
   "outputs": [],
   "source": [
    "polygon_index = list(sdata.shapes[\"blobs_polygons\"].index)\n",
    "# We have to do a compute here as points are lazily loaded using dask.\n",
    "point_index = list(sdata[\"blobs_points\"].index.compute())\n",
    "\n",
    "region_column = [\"blobs_polygons\"] * len(polygon_index) + [\"blobs_points\"] * len(point_index)\n",
    "instance_id_column = polygon_index + point_index"
   ],
   "metadata": {
    "collapsed": false,
    "ExecuteTime": {
     "end_time": "2024-03-25T15:37:53.209797100Z",
     "start_time": "2024-03-25T15:37:53.192787800Z"
    }
   },
   "id": "4a1284206b9e1837"
  },
  {
   "cell_type": "code",
   "execution_count": 8,
   "outputs": [
    {
     "name": "stderr",
     "output_type": "stream",
     "text": [
      "C:\\Users\\w-mv\\AppData\\Local\\Temp\\ipykernel_11692\\1082077149.py:10: UserWarning: Converting `region_key: region` to categorical dtype.\n",
      "  sdata_table = TableModel.parse(table, region=[\"blobs_polygons\", \"blobs_points\"], region_key=\"region\", instance_key=\"instance_id\")\n"
     ]
    }
   ],
   "source": [
    "import numpy as np\n",
    "\n",
    "RNG = np.random.default_rng()\n",
    "table = AnnData(\n",
    "    X=np.zeros((len(region_column), 1)),\n",
    "    obs={\"region\": region_column, \"instance_id\": instance_id_column},\n",
    ")\n",
    "table = table[RNG.permutation(table.obs.index), :].copy()\n",
    "\n",
    "# Now we have to specify all 3 annotation metadata fields.\n",
    "sdata_table = TableModel.parse(\n",
    "    table, region=[\"blobs_polygons\", \"blobs_points\"], region_key=\"region\", instance_key=\"instance_id\"\n",
    ")\n",
    "\n",
    "# When adding the table now, it is validated for presence of annotation targets in the sdata object.\n",
    "sdata[\"annotations\"] = sdata_table"
   ],
   "metadata": {
    "collapsed": false,
    "ExecuteTime": {
     "end_time": "2024-03-25T15:37:55.374182600Z",
     "start_time": "2024-03-25T15:37:55.359184100Z"
    }
   },
   "id": "268076f9ed8b8178"
  },
  {
   "cell_type": "markdown",
   "source": [
    "### Performing SQL like joins\n",
    "In order to retrieve (non) matching parts of a `SpatialElement` and the annotating tables we \n",
    "can perform SQL like join operations on the table. For this, we have the function \n",
    "`join_sdata_spatialelement_table`. It takes as arguments the `SpatialData` object, \n",
    "`spatial_element_name` as either a `str` or a list of `str`, `how` which indicates what kind \n",
    "of SQL like operation to perform (left, left_exclusive, inner, right or right_exclusive). \n",
    "Lastly, if you want the indices to match you can indicate this by passing `left` or `right` \n",
    "to the `match_rows` argument. The default here is `no`.\n",
    "![sql_joins](attachments/joins_small.png)"
   ],
   "metadata": {
    "collapsed": false
   },
   "id": "c6359952fd5f745d"
  },
  {
   "cell_type": "markdown",
   "source": [
    "Let us now showcase the function by first removing some indices from `blobs_polygons`and then \n",
    "performing a join."
   ],
   "metadata": {
    "collapsed": false
   },
   "id": "54bd865401e9978"
  },
  {
   "cell_type": "code",
   "execution_count": 9,
   "outputs": [
    {
     "name": "stdout",
     "output_type": "stream",
     "text": [
      "                                            geometry\n",
      "0  POLYGON ((340.197 258.214, 316.177 197.065, 29...\n",
      "1  POLYGON ((284.141 420.454, 267.249 371.319, 25...\n",
      "2  POLYGON ((203.195 229.528, 285.506 204.414, 19...\n"
     ]
    },
    {
     "name": "stderr",
     "output_type": "stream",
     "text": [
      "C:\\Users\\w-mv\\PycharmProjects\\spatialdata\\src\\spatialdata\\_core\\_elements.py:92: UserWarning: Key `blobs_polygons` already exists. Overwriting it.\n",
      "  self._check_key(key, self.keys(), self._shared_keys)\n",
      "C:\\Users\\w-mv\\PycharmProjects\\spatialdata\\src\\spatialdata\\_core\\query\\relational_query.py:394: FutureWarning: The default of observed=False is deprecated and will be changed to True in a future version of pandas. Pass observed=False to retain current behavior or observed=True to adopt the future default and silence this warning.\n",
      "  groups_df = table.obs.groupby(by=region_column_name)\n"
     ]
    },
    {
     "data": {
      "text/plain": "           region  instance_id\n1  blobs_polygons            1\n0  blobs_polygons            0\n2  blobs_polygons            2",
      "text/html": "<div>\n<style scoped>\n    .dataframe tbody tr th:only-of-type {\n        vertical-align: middle;\n    }\n\n    .dataframe tbody tr th {\n        vertical-align: top;\n    }\n\n    .dataframe thead th {\n        text-align: right;\n    }\n</style>\n<table border=\"1\" class=\"dataframe\">\n  <thead>\n    <tr style=\"text-align: right;\">\n      <th></th>\n      <th>region</th>\n      <th>instance_id</th>\n    </tr>\n  </thead>\n  <tbody>\n    <tr>\n      <th>1</th>\n      <td>blobs_polygons</td>\n      <td>1</td>\n    </tr>\n    <tr>\n      <th>0</th>\n      <td>blobs_polygons</td>\n      <td>0</td>\n    </tr>\n    <tr>\n      <th>2</th>\n      <td>blobs_polygons</td>\n      <td>2</td>\n    </tr>\n  </tbody>\n</table>\n</div>"
     },
     "execution_count": 9,
     "metadata": {},
     "output_type": "execute_result"
    }
   ],
   "source": [
    "from spatialdata import join_sdata_spatialelement_table\n",
    "\n",
    "# This leaves the element with 3 shapes\n",
    "sdata[\"blobs_polygons\"] = sdata[\"blobs_polygons\"][:3]\n",
    "\n",
    "# We can now do a join with one spatial element\n",
    "element_dict, table = join_sdata_spatialelement_table(\n",
    "    sdata, spatial_element_name=\"blobs_polygons\", table_name=\"annotations\", how=\"left\"\n",
    ")\n",
    "print(element_dict[\"blobs_polygons\"])\n",
    "table.obs"
   ],
   "metadata": {
    "collapsed": false,
    "ExecuteTime": {
     "end_time": "2024-03-25T15:37:58.750255500Z",
     "start_time": "2024-03-25T15:37:58.740254200Z"
    }
   },
   "id": "9cce5bf3467c907b"
  },
  {
   "cell_type": "markdown",
   "source": [
    "Above we see that the table only contains those annotations corresponding to shapes that are \n",
    "still in `blobs_polygons`. The `element_dict` only contains `SpatialElement`s used in the \n",
    "join. Let us now repeat the join but with the table rows matching the indices of \n",
    "`blobs_polygons`."
   ],
   "metadata": {
    "collapsed": false
   },
   "id": "eb023ccbd5abd35"
  },
  {
   "cell_type": "code",
   "execution_count": 10,
   "outputs": [
    {
     "name": "stdout",
     "output_type": "stream",
     "text": [
      "                                            geometry\n",
      "0  POLYGON ((340.197 258.214, 316.177 197.065, 29...\n",
      "1  POLYGON ((284.141 420.454, 267.249 371.319, 25...\n",
      "2  POLYGON ((203.195 229.528, 285.506 204.414, 19...\n"
     ]
    },
    {
     "name": "stderr",
     "output_type": "stream",
     "text": [
      "C:\\Users\\w-mv\\PycharmProjects\\spatialdata\\src\\spatialdata\\_core\\query\\relational_query.py:394: FutureWarning: The default of observed=False is deprecated and will be changed to True in a future version of pandas. Pass observed=False to retain current behavior or observed=True to adopt the future default and silence this warning.\n",
      "  groups_df = table.obs.groupby(by=region_column_name)\n"
     ]
    },
    {
     "data": {
      "text/plain": "           region  instance_id\n0  blobs_polygons            0\n1  blobs_polygons            1\n2  blobs_polygons            2",
      "text/html": "<div>\n<style scoped>\n    .dataframe tbody tr th:only-of-type {\n        vertical-align: middle;\n    }\n\n    .dataframe tbody tr th {\n        vertical-align: top;\n    }\n\n    .dataframe thead th {\n        text-align: right;\n    }\n</style>\n<table border=\"1\" class=\"dataframe\">\n  <thead>\n    <tr style=\"text-align: right;\">\n      <th></th>\n      <th>region</th>\n      <th>instance_id</th>\n    </tr>\n  </thead>\n  <tbody>\n    <tr>\n      <th>0</th>\n      <td>blobs_polygons</td>\n      <td>0</td>\n    </tr>\n    <tr>\n      <th>1</th>\n      <td>blobs_polygons</td>\n      <td>1</td>\n    </tr>\n    <tr>\n      <th>2</th>\n      <td>blobs_polygons</td>\n      <td>2</td>\n    </tr>\n  </tbody>\n</table>\n</div>"
     },
     "execution_count": 10,
     "metadata": {},
     "output_type": "execute_result"
    }
   ],
   "source": [
    "element_dict, table = join_sdata_spatialelement_table(\n",
    "    sdata, spatial_element_name=\"blobs_polygons\", table_name=\"annotations\", how=\"left\", match_rows=\"left\"\n",
    ")\n",
    "print(element_dict[\"blobs_polygons\"])\n",
    "table.obs"
   ],
   "metadata": {
    "collapsed": false,
    "ExecuteTime": {
     "end_time": "2024-03-25T15:38:02.686788600Z",
     "start_time": "2024-03-25T15:38:02.663772100Z"
    }
   },
   "id": "e5304e689a8d8c0"
  },
  {
   "cell_type": "markdown",
   "source": [
    "Let us now add the filtered annotations back to the `SpatialData` object. This requires us to\n",
    "use a slightly different function then the one we learned about earlier for adjusting the \n",
    "annotation metadata."
   ],
   "metadata": {
    "collapsed": false
   },
   "id": "dd15e9d8cefae6ed"
  },
  {
   "cell_type": "code",
   "execution_count": 11,
   "outputs": [],
   "source": [
    "table = sd.table_annotates_spatialelement(table)\n",
    "sdata[\"filtered_annotations_blobs_polygons\"] = table"
   ],
   "metadata": {
    "collapsed": false,
    "ExecuteTime": {
     "end_time": "2024-03-25T15:38:06.967719800Z",
     "start_time": "2024-03-25T15:38:06.958232300Z"
    }
   },
   "id": "5525278e18c9fe11"
  },
  {
   "cell_type": "markdown",
   "source": [
    "Lastly, we can also do the join operation on multiple `SpatialElements` at the same time."
   ],
   "metadata": {
    "collapsed": false
   },
   "id": "64e57e2b3e33b537"
  },
  {
   "cell_type": "code",
   "execution_count": 12,
   "outputs": [
    {
     "name": "stderr",
     "output_type": "stream",
     "text": [
      "C:\\Users\\w-mv\\PycharmProjects\\spatialdata\\src\\spatialdata\\_core\\query\\relational_query.py:394: FutureWarning: The default of observed=False is deprecated and will be changed to True in a future version of pandas. Pass observed=False to retain current behavior or observed=True to adopt the future default and silence this warning.\n",
      "  groups_df = table.obs.groupby(by=region_column_name)\n"
     ]
    },
    {
     "data": {
      "text/plain": "             region  instance_id\n0    blobs_polygons            0\n1    blobs_polygons            1\n2    blobs_polygons            2\n5      blobs_points            0\n6      blobs_points            1\n..              ...          ...\n200    blobs_points          195\n201    blobs_points          196\n202    blobs_points          197\n203    blobs_points          198\n204    blobs_points          199\n\n[203 rows x 2 columns]",
      "text/html": "<div>\n<style scoped>\n    .dataframe tbody tr th:only-of-type {\n        vertical-align: middle;\n    }\n\n    .dataframe tbody tr th {\n        vertical-align: top;\n    }\n\n    .dataframe thead th {\n        text-align: right;\n    }\n</style>\n<table border=\"1\" class=\"dataframe\">\n  <thead>\n    <tr style=\"text-align: right;\">\n      <th></th>\n      <th>region</th>\n      <th>instance_id</th>\n    </tr>\n  </thead>\n  <tbody>\n    <tr>\n      <th>0</th>\n      <td>blobs_polygons</td>\n      <td>0</td>\n    </tr>\n    <tr>\n      <th>1</th>\n      <td>blobs_polygons</td>\n      <td>1</td>\n    </tr>\n    <tr>\n      <th>2</th>\n      <td>blobs_polygons</td>\n      <td>2</td>\n    </tr>\n    <tr>\n      <th>5</th>\n      <td>blobs_points</td>\n      <td>0</td>\n    </tr>\n    <tr>\n      <th>6</th>\n      <td>blobs_points</td>\n      <td>1</td>\n    </tr>\n    <tr>\n      <th>...</th>\n      <td>...</td>\n      <td>...</td>\n    </tr>\n    <tr>\n      <th>200</th>\n      <td>blobs_points</td>\n      <td>195</td>\n    </tr>\n    <tr>\n      <th>201</th>\n      <td>blobs_points</td>\n      <td>196</td>\n    </tr>\n    <tr>\n      <th>202</th>\n      <td>blobs_points</td>\n      <td>197</td>\n    </tr>\n    <tr>\n      <th>203</th>\n      <td>blobs_points</td>\n      <td>198</td>\n    </tr>\n    <tr>\n      <th>204</th>\n      <td>blobs_points</td>\n      <td>199</td>\n    </tr>\n  </tbody>\n</table>\n<p>203 rows × 2 columns</p>\n</div>"
     },
     "execution_count": 12,
     "metadata": {},
     "output_type": "execute_result"
    }
   ],
   "source": [
    "element_dict, table = join_sdata_spatialelement_table(\n",
    "    sdata,\n",
    "    spatial_element_name=[\"blobs_polygons\", \"blobs_points\"],\n",
    "    table_name=\"annotations\",\n",
    "    how=\"left\",\n",
    "    match_rows=\"left\",\n",
    ")\n",
    "sdata[\"multi_filtered_table\"] = table\n",
    "table.obs"
   ],
   "metadata": {
    "collapsed": false,
    "ExecuteTime": {
     "end_time": "2024-03-25T15:38:12.017839100Z",
     "start_time": "2024-03-25T15:38:11.998324800Z"
    }
   },
   "id": "fc32235f3e7e5ab1"
  },
  {
   "cell_type": "code",
   "execution_count": 13,
   "outputs": [
    {
     "data": {
      "text/plain": "{'table': AnnData object with n_obs × n_vars = 26 × 3\n    obs: 'instance_id', 'region'\n    uns: 'spatialdata_attrs', 'codebook': AnnData object with n_obs × n_vars = 3 × 0\n    obs: 'Gene', 'barcode', 'annotations': AnnData object with n_obs × n_vars = 205 × 1\n    obs: 'region', 'instance_id'\n    uns: 'spatialdata_attrs', 'filtered_annotations_blobs_polygons': AnnData object with n_obs × n_vars = 3 × 1\n    obs: 'region', 'instance_id'\n    uns: 'spatialdata_attrs', 'multi_filtered_table': AnnData object with n_obs × n_vars = 203 × 1\n    obs: 'region', 'instance_id'\n    uns: 'spatialdata_attrs'}"
     },
     "execution_count": 13,
     "metadata": {},
     "output_type": "execute_result"
    }
   ],
   "source": [
    "# This tells us which tables we have in the SpatialData object\n",
    "sdata.tables"
   ],
   "metadata": {
    "collapsed": false,
    "ExecuteTime": {
     "end_time": "2024-03-25T15:38:16.650995500Z",
     "start_time": "2024-03-25T15:38:16.630988100Z"
    }
   },
   "id": "449756387c46e65d"
  },
  {
   "cell_type": "markdown",
   "source": [
    "### Ending on a special note\n",
    "For the joins on `Shapes` and `Points` elements any type of join is supported and also any\n",
    "kind of matching is supported. For `Labels` elements however, only the left join is supported\n",
    "and also only `no` and `left` are supported for the argument `match_rows`. This because for `Labels` the SQL like join behaviour would otherwise be complex to implement. We also did\n",
    "not forsee a usecase for this. In case you have a usecase for this, please get in touch with us by either opening an issue on [github](https://github.com/scverse/spatialdata) or via our [discourse](https://discourse.scverse.org/)."
   ],
   "metadata": {
    "collapsed": false
   },
   "id": "660ad4c54a72b421"
  }
 ],
 "metadata": {
  "kernelspec": {
   "display_name": "Python 3",
   "language": "python",
   "name": "python3"
  },
  "language_info": {
   "codemirror_mode": {
    "name": "ipython",
    "version": 2
   },
   "file_extension": ".py",
   "mimetype": "text/x-python",
   "name": "python",
   "nbconvert_exporter": "python",
   "pygments_lexer": "ipython2",
   "version": "2.7.6"
  }
 },
 "nbformat": 4,
 "nbformat_minor": 5
}
