{
 "cells": [
  {
   "cell_type": "markdown",
   "metadata": {
    "tags": []
   },
   "source": [
    "# Squidpy integration\n",
    "\n",
    "In this notebook, we will describe some usage principles for using SpatialData with squidpy.\n",
    "\n",
    "Let's first import some useful libraries and read in a spatialdata dataset.\n",
    "\n",
    "You might have to install squidpy with `!pip install squidpy`."
   ]
  },
  {
   "cell_type": "code",
   "execution_count": 1,
   "metadata": {},
   "outputs": [],
   "source": [
    "from pathlib import Path\n",
    "\n",
    "import scanpy as sc\n",
    "import spatialdata as sd\n",
    "import spatialdata_plot\n",
    "import squidpy as sq"
   ]
  },
  {
   "cell_type": "markdown",
   "metadata": {},
   "source": [
    "We chosed a Xenium dataset formatted in the spatialdata format. \n",
    "You can download the data from here: [Xenium dataset](https://s3.embl.de/spatialdata/spatialdata-sandbox/xenium_rep1_io.zip). Please rename the file to `xenium.zarr` and place it in the same folder as this notebook (or use symlinks to make the data accessible)."
   ]
  },
  {
   "cell_type": "code",
   "execution_count": 2,
   "metadata": {},
   "outputs": [
    {
     "name": "stderr",
     "output_type": "stream",
     "text": [
      "/mnt/miniconda3/envs/ome/lib/python3.10/site-packages/anndata/_core/aligned_df.py:67: ImplicitModificationWarning: Transforming to str index.\n",
      "  warnings.warn(\"Transforming to str index.\", ImplicitModificationWarning)\n"
     ]
    },
    {
     "data": {
      "text/plain": [
       "SpatialData object with:\n",
       "├── Images\n",
       "│     ├── 'morphology_focus': MultiscaleSpatialImage[cyx] (1, 25778, 35416), (1, 12889, 17708), (1, 6444, 8854), (1, 3222, 4427), (1, 1611, 2213)\n",
       "│     └── 'morphology_mip': MultiscaleSpatialImage[cyx] (1, 25778, 35416), (1, 12889, 17708), (1, 6444, 8854), (1, 3222, 4427), (1, 1611, 2213)\n",
       "├── Labels\n",
       "│     ├── 'cell_labels': MultiscaleSpatialImage[yx] (25778, 35416), (12889, 17708), (6444, 8854), (3222, 4427), (1611, 2213)\n",
       "│     └── 'nucleus_labels': MultiscaleSpatialImage[yx] (25778, 35416), (12889, 17708), (6444, 8854), (3222, 4427), (1611, 2213)\n",
       "├── Points\n",
       "│     └── 'transcripts': DataFrame with shape: (42638083, 8) (3D points)\n",
       "├── Shapes\n",
       "│     ├── 'cell_boundaries': GeoDataFrame shape: (167780, 1) (2D shapes)\n",
       "│     ├── 'cell_circles': GeoDataFrame shape: (167780, 2) (2D shapes)\n",
       "│     └── 'nucleus_boundaries': GeoDataFrame shape: (167780, 1) (2D shapes)\n",
       "└── Tables\n",
       "      └── 'table': AnnData (167780, 313)\n",
       "with coordinate systems:\n",
       "▸ 'aligned', with elements:\n",
       "        morphology_mip (Images)\n",
       "▸ 'global', with elements:\n",
       "        morphology_focus (Images), morphology_mip (Images), cell_labels (Labels), nucleus_labels (Labels), transcripts (Points), cell_boundaries (Shapes), cell_circles (Shapes), nucleus_boundaries (Shapes)"
      ]
     },
     "execution_count": 2,
     "metadata": {},
     "output_type": "execute_result"
    }
   ],
   "source": [
    "sdata = sd.read_zarr(\"xenium.zarr\")\n",
    "sdata"
   ]
  },
  {
   "cell_type": "markdown",
   "metadata": {},
   "source": [
    "SpatialData has a more complex structure than the (legacy) spatial `AnnData` format introduced by `squidpy`. Nevertheless, because it fundamentally uses `AnnData` as table for annotating regions, with some minor adjustments we can readily use any tool from the scverse ecosystem (`squidpy` included) to perform downstream analysis.\n",
    "\n",
    "More precisely, the `scverse` ecosystem will gradually transition to use `SpatialData` internally; until that moment the function `to_legacy_anndata()` from `spatialdata_io.experimental` can be used to enrich the `AnnData` in `sdata.tables`  objects to be compatible with the legacy `AnnData` format.\n",
    "\n",
    "Generally (i.e. when a single coordinate system is used), the only adjustment required is to populate `.obsm['spatial']` with the centroids of the geometries being considered, and this is performed automatically by the `spatialdata-io` library. For more complex cases, the converter functions `to_legacy_anndata()` and `from_legacy_anndata()` can be used (see example at the end of the notebook)."
   ]
  },
  {
   "cell_type": "markdown",
   "metadata": {},
   "source": [
    "## Xenium example"
   ]
  },
  {
   "cell_type": "markdown",
   "metadata": {},
   "source": [
    "As an example of integration with `Squidpy`, let's compute a nearest neighbor graph of the spatial coordiantes of the xenium dataset."
   ]
  },
  {
   "cell_type": "code",
   "execution_count": 3,
   "metadata": {},
   "outputs": [],
   "source": [
    "sq.gr.spatial_neighbors(sdata[\"table\"])"
   ]
  },
  {
   "cell_type": "markdown",
   "metadata": {},
   "source": [
    "After that, we can cluster the cells based on gene expression profiles and compute clustering."
   ]
  },
  {
   "cell_type": "code",
   "execution_count": null,
   "metadata": {},
   "outputs": [
    {
     "name": "stderr",
     "output_type": "stream",
     "text": [
      "/mnt/miniconda3/envs/ome/lib/python3.10/site-packages/tqdm/auto.py:21: TqdmWarning: IProgress not found. Please update jupyter and ipywidgets. See https://ipywidgets.readthedocs.io/en/stable/user_install.html\n",
      "  from .autonotebook import tqdm as notebook_tqdm\n"
     ]
    }
   ],
   "source": [
    "%%time\n",
    "sc.pp.pca(sdata[\"table\"])\n",
    "sc.pp.neighbors(sdata[\"table\"])\n",
    "sc.tl.leiden(sdata[\"table\"])"
   ]
  },
  {
   "cell_type": "markdown",
   "metadata": {},
   "source": [
    "And run the neighbor enrichment analysis in squidpy."
   ]
  },
  {
   "cell_type": "code",
   "execution_count": null,
   "metadata": {},
   "outputs": [],
   "source": [
    "sq.gr.nhood_enrichment(sdata[\"table\"], cluster_key=\"leiden\")\n",
    "sq.pl.nhood_enrichment(sdata[\"table\"], cluster_key=\"leiden\", figsize=(5, 5))"
   ]
  },
  {
   "cell_type": "markdown",
   "metadata": {},
   "source": [
    "We can finally visualize the results in spatial coordinates both with squidpy as well as with the novel plotting function in spatialdata.\n"
   ]
  },
  {
   "cell_type": "code",
   "execution_count": null,
   "metadata": {},
   "outputs": [],
   "source": [
    "sq.pl.spatial_scatter(sdata[\"table\"], shape=None, color=\"leiden\")"
   ]
  },
  {
   "cell_type": "code",
   "execution_count": null,
   "metadata": {},
   "outputs": [],
   "source": [
    "sdata.pl.render_shapes(\"cell_circles\", color=\"leiden\").pl.show(coordinate_systems=\"global\")"
   ]
  },
  {
   "cell_type": "markdown",
   "metadata": {},
   "source": [
    "## Using the converters from/to the legacy spatial `AnnData` format"
   ]
  },
  {
   "cell_type": "markdown",
   "metadata": {},
   "source": [
    "We will now show how to convert from/to the legacy spatialdata `AnnData` format. The convertes deal with the complexity of having multiple libraries in the legacy format, and with the generality of coordinate systems in `SpatialData`. For more information please refer to the API documentation of `spatialdata-io`."
   ]
  },
  {
   "cell_type": "code",
   "execution_count": null,
   "metadata": {},
   "outputs": [],
   "source": [
    "from typing import Literal\n",
    "\n",
    "import matplotlib.pyplot as plt\n",
    "import scanpy as sc\n",
    "import spatialdata_io\n",
    "import spatialdata_plot\n",
    "import squidpy as sq\n",
    "from anndata import AnnData\n",
    "from spatialdata import SpatialData, join_sdata_spatialelement_table\n",
    "from spatialdata._core.query.relational_query import _get_unique_label_values_as_index\n",
    "from spatialdata.datasets import blobs\n",
    "from spatialdata.models import TableModel\n",
    "from spatialdata.transformations import Affine, set_transformation\n",
    "from spatialdata_io.experimental import from_legacy_anndata, to_legacy_anndata\n",
    "\n",
    "BlobsTypes = Literal[\"blobs_labels\", \"blobs_circles\", \"blobs_polygons\", \"blobs_multipolygons\"]\n",
    "\n",
    "\n",
    "def blobs_annotating_element(name: BlobsTypes) -> SpatialData:\n",
    "    \"\"\"Returns toy data (blobs) with a table annotating the deised element.\"\"\"\n",
    "    sdata = blobs(length=50)\n",
    "    if name == \"blobs_labels\":\n",
    "        instance_id = _get_unique_label_values_as_index(sdata[name]).tolist()\n",
    "    else:\n",
    "        instance_id = sdata[name].index.tolist()\n",
    "    n = len(instance_id)\n",
    "    new_table = AnnData(shape=(n, 0), obs={\"region\": [name for _ in range(n)], \"instance_id\": instance_id})\n",
    "    new_table = TableModel.parse(new_table, region=name, region_key=\"region\", instance_key=\"instance_id\")\n",
    "    del sdata.tables[\"table\"]\n",
    "    sdata[\"table\"] = new_table\n",
    "    return sdata"
   ]
  },
  {
   "cell_type": "markdown",
   "metadata": {},
   "source": [
    "### Example of conversion from the legacy AnnData to SpatialData"
   ]
  },
  {
   "cell_type": "code",
   "execution_count": null,
   "metadata": {},
   "outputs": [],
   "source": [
    "# some datasets you can play around with\n",
    "# adata = sq.datasets.visium_fluo_adata()\n",
    "# adata = sq.datasets.merfish()\n",
    "adata = sq.datasets.visium_hne_adata_crop()\n",
    "\n",
    "sdata = from_legacy_anndata(adata)\n",
    "\n",
    "my_gene = \"Itpka\"\n",
    "# broken (multiple table not yet supported in spatialdata-plot), this is being fix in https://github.com/scverse/spatialdata-plot/pull/220\n",
    "sdata.pl.render_images(\"V1_Adult_Mouse_Brain_hires_image\").pl.render_shapes(color=my_gene).pl.show()\n",
    "plt.show()"
   ]
  },
  {
   "cell_type": "markdown",
   "metadata": {},
   "source": [
    "### Example of conversion from SpatialData to the legacy AnnData, showing also that affine transformations are handled"
   ]
  },
  {
   "cell_type": "code",
   "execution_count": null,
   "metadata": {},
   "outputs": [],
   "source": [
    "element = \"blobs_circles\"\n",
    "sdata = blobs_annotating_element(element)\n",
    "image = \"blobs_multiscale_image\"\n",
    "\n",
    "affine = Affine([[1, 2, 3], [-2, 1, 6], [0, 0, 1]], input_axes=(\"x\", \"y\"), output_axes=(\"x\", \"y\"))\n",
    "set_transformation(sdata[element], affine, \"transformed\")\n",
    "set_transformation(sdata[image], affine, \"transformed\")\n",
    "\n",
    "adata = to_legacy_anndata(sdata, include_images=True, coordinate_system=\"transformed\")\n",
    "\n",
    "axes = plt.subplots(1, 2, figsize=(10, 5))[1]\n",
    "sdata.pl.render_images(image).pl.render_shapes(element).pl.show(coordinate_systems=[\"transformed\"], ax=axes[0])\n",
    "sc.pl.spatial(\n",
    "    adata,\n",
    "    spot_size=300,\n",
    "    library_id=image,\n",
    "    img_key=\"hires\",\n",
    "    na_color=\"white\",\n",
    "    show=True,\n",
    "    crop_coord=(0, 2000, 0, 2000),\n",
    "    ax=axes[1],\n",
    ")"
   ]
  },
  {
   "cell_type": "code",
   "execution_count": null,
   "metadata": {},
   "outputs": [],
   "source": []
  }
 ],
 "metadata": {
  "kernelspec": {
   "display_name": "Python 3 (ipykernel)",
   "language": "python",
   "name": "python3"
  },
  "language_info": {
   "codemirror_mode": {
    "name": "ipython",
    "version": 3
   },
   "file_extension": ".py",
   "mimetype": "text/x-python",
   "name": "python",
   "nbconvert_exporter": "python",
   "pygments_lexer": "ipython3",
   "version": "3.10.13"
  },
  "vscode": {
   "interpreter": {
    "hash": "ee4d5b535197dae0a4992124b5514302e65224b4d85c75a4ef4aca89a13d51e4"
   }
  }
 },
 "nbformat": 4,
 "nbformat_minor": 4
}
