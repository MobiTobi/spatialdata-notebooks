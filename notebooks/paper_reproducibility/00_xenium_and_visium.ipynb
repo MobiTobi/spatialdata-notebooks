{
 "cells": [
  {
   "cell_type": "markdown",
   "id": "dc62a3d8-c542-4cf6-acf9-1c66fd3f0c33",
   "metadata": {},
   "source": [
    "# Integration and joint analysis of Xenium and Visium data"
   ]
  },
  {
   "cell_type": "markdown",
   "id": "723984d4-3750-4bf5-911a-dceca8266e8e",
   "metadata": {},
   "source": [
    "Authors: Elyas Heidari, Luca Marconato"
   ]
  },
  {
   "cell_type": "raw",
   "id": "e576b453-a116-4089-949d-9daa5b31a8d7",
   "metadata": {
    "tags": []
   },
   "source": [
    "%load_ext autoreload\n",
    "%autoreload 2\n",
    "%load_ext jupyter_black"
   ]
  },
  {
   "cell_type": "markdown",
   "id": "7294b2a5-e5ce-4f90-9c95-f63b61b0bb30",
   "metadata": {},
   "source": [
    "## Setup\n",
    "### Import libraries"
   ]
  },
  {
   "cell_type": "code",
   "execution_count": 1,
   "id": "18718fae-5230-4346-af3e-627e56ab3ad2",
   "metadata": {
    "tags": []
   },
   "outputs": [
    {
     "name": "stderr",
     "output_type": "stream",
     "text": [
      "/Users/macbook/miniconda3/envs/ome/lib/python3.10/site-packages/tqdm/auto.py:21: TqdmWarning: IProgress not found. Please update jupyter and ipywidgets. See https://ipywidgets.readthedocs.io/en/stable/user_install.html\n",
      "  from .autonotebook import tqdm as notebook_tqdm\n"
     ]
    }
   ],
   "source": [
    "import os\n",
    "\n",
    "from shapely.geometry import Polygon\n",
    "\n",
    "os.environ[\"USE_PYGEOS\"] = \"0\"\n",
    "import os\n",
    "import shutil\n",
    "\n",
    "import anndata\n",
    "import geopandas\n",
    "import napari\n",
    "import numpy as np\n",
    "import pandas as pd\n",
    "import scanpy as sc\n",
    "import spatialdata as sd\n",
    "import squidpy as sq\n",
    "from napari_spatialdata import Interactive\n",
    "from scipy import sparse\n",
    "from spatialdata.transformations import (\n",
    "    Affine,\n",
    "    Identity,\n",
    "    Sequence,\n",
    "    align_elements_using_landmarks,\n",
    "    get_transformation,\n",
    "    set_transformation,\n",
    ")"
   ]
  },
  {
   "cell_type": "markdown",
   "id": "ec13509b-3181-4ca5-a12f-dc69ff269120",
   "metadata": {},
   "source": [
    "### Data paths"
   ]
  },
  {
   "cell_type": "markdown",
   "id": "d11101ee-0c71-413a-bb5f-41bf2bc58be2",
   "metadata": {},
   "source": [
    "#### Setting up the root data folders"
   ]
  },
  {
   "cell_type": "code",
   "execution_count": 2,
   "id": "9acac8f8-0593-42c0-91e4-5367d0a9286a",
   "metadata": {
    "tags": []
   },
   "outputs": [
    {
     "name": "stdout",
     "output_type": "stream",
     "text": [
      "current working directory: /Users/macbook/embl/projects/basel/spatialdata-notebooks/notebooks/paper_reproducibility\n"
     ]
    }
   ],
   "source": [
    "print(\"current working directory:\", os.getcwd())\n",
    "SPATIALDATA_SANDBOX_PATH = \"spatialdata-sandbox\"\n",
    "assert os.path.isdir(\n",
    "    SPATIALDATA_SANDBOX_PATH\n",
    "), f\"{SPATIALDATA_SANDBOX_PATH} not found, please use symlinks to make it available\"\n",
    "GENERATED_DATA_PATH = os.path.join(SPATIALDATA_SANDBOX_PATH, \"generated_data/xenium_visium_integration\")\n",
    "os.makedirs(GENERATED_DATA_PATH, exist_ok=True)"
   ]
  },
  {
   "cell_type": "markdown",
   "id": "f6e3f31d-cea3-4d2f-8aaa-e11f22e6f911",
   "metadata": {},
   "source": [
    "#### Data to be downloaded"
   ]
  },
  {
   "cell_type": "markdown",
   "id": "14faa312-1c8b-4f2c-8fe6-913808f7b901",
   "metadata": {},
   "source": [
    "scRNA-Seq reference atlas from (TODO: @Elyas cite study), [can be downloaded from here](https://s3.embl.de/spatialdata/spatialdata-sandbox/generated_data/xenium_visium_integration/BC_atlas_xe.h5ad)."
   ]
  },
  {
   "cell_type": "code",
   "execution_count": 3,
   "id": "72e33840-8421-4355-bd5c-6646beb5cea9",
   "metadata": {
    "tags": []
   },
   "outputs": [],
   "source": [
    "BC_SC_ATLAS_PATH = os.path.join(GENERATED_DATA_PATH, \"BC_atlas_xe.h5ad\")"
   ]
  },
  {
   "cell_type": "markdown",
   "id": "eb115a2f-751a-4b8d-bcec-e52d40593d0c",
   "metadata": {},
   "source": [
    "Clonal information derived from the Visium data, [can be downloaded from here](https://s3.embl.de/spatialdata/spatialdata-sandbox/generated_data/xenium_visium_integration/visium_copyKat.h5ad)."
   ]
  },
  {
   "cell_type": "code",
   "execution_count": 4,
   "id": "5047d4cb-0fe4-48ec-abe4-7e34fc66df59",
   "metadata": {
    "tags": []
   },
   "outputs": [],
   "source": [
    "VISIUM_CLONAL_PATH = os.path.join(GENERATED_DATA_PATH, \"visium_copyKat.h5ad\")"
   ]
  },
  {
   "cell_type": "markdown",
   "id": "95a35110-3a1a-4c58-b848-8deac717ebc9",
   "metadata": {},
   "source": [
    "Zarr file with annotated landmark locations and a ROI polygon, drawn with napari-spatialdata and saved into a SpatialData object, [can be downloaded from here](https://s3.embl.de/spatialdata/spatialdata-sandbox/generated_data/xenium_visium_integration/sandbox.zarr.zip)."
   ]
  },
  {
   "cell_type": "code",
   "execution_count": 5,
   "id": "f4c9ad41-5f8b-4ed6-91d5-2490ba78c2f9",
   "metadata": {
    "tags": []
   },
   "outputs": [],
   "source": [
    "LANDMARKS_SDATA_PATH = os.path.join(GENERATED_DATA_PATH, \"sandbox.zarr\")"
   ]
  },
  {
   "cell_type": "markdown",
   "id": "18247140-7021-45c6-b915-c1c548c4adea",
   "metadata": {},
   "source": [
    "#### Data converted to Zarr with scripts from `spatialdata-sandbox` (can also be downloaded)"
   ]
  },
  {
   "cell_type": "markdown",
   "id": "a621de65-bc15-44e4-82c0-779f87567e43",
   "metadata": {},
   "source": [
    "To get this data:\n",
    "1. run spatialdata-sandbox/xenium_rep1_io/download.py;\n",
    "2. run spatialdata-sandbox/xenium_rep1_io/to_zarr.py to create the zarr files.\n",
    "Alternatively, it [can be downloaded from here](https://s3.embl.de/spatialdata/spatialdata-sandbox/xenium_rep1_io.zip)."
   ]
  },
  {
   "cell_type": "code",
   "execution_count": 6,
   "id": "cfef7b61-c627-43c3-901d-96ecf6d3c518",
   "metadata": {
    "tags": []
   },
   "outputs": [],
   "source": [
    "XE_REP1_PATH = os.path.join(SPATIALDATA_SANDBOX_PATH, \"xenium_rep1_io/data.zarr\")"
   ]
  },
  {
   "cell_type": "markdown",
   "id": "6be27012-647c-4920-9063-a6dbc84280ef",
   "metadata": {},
   "source": [
    "To get this data:\n",
    "1. run spatialdata-sandbox/xenium_rep2_io/download.py;\n",
    "2. run spatialdata-sandbox/xenium_rep2_io/to_zarr.py to create the zarr files.\n",
    "Alternatively, it [can be downloaded from here](https://s3.embl.de/spatialdata/spatialdata-sandbox/xenium_rep2_io.zip)."
   ]
  },
  {
   "cell_type": "code",
   "execution_count": 7,
   "id": "2953c562-6709-400b-927a-175b53901771",
   "metadata": {
    "tags": []
   },
   "outputs": [],
   "source": [
    "XE_REP2_PATH = os.path.join(SPATIALDATA_SANDBOX_PATH, \"xenium_rep2_io/data.zarr\")"
   ]
  },
  {
   "cell_type": "markdown",
   "id": "81858794-6837-47cf-b226-b221150fc829",
   "metadata": {
    "tags": []
   },
   "source": [
    "To get this data:\n",
    "1. run spatialdata-sandbox/visium_associated_xenium_io/download.py\n",
    "2. run spatialdata-sandbox/visium_associated_xenium_io/to_zarr.py to create the zarr files\n",
    "Alternatively, it [can be downloaded from here](https://s3.embl.de/spatialdata/spatialdata-sandbox/visium_associated_xenium_io.zip)."
   ]
  },
  {
   "cell_type": "code",
   "execution_count": 8,
   "id": "44d9d918-9a81-46c9-89c5-20db7ced2275",
   "metadata": {
    "tags": []
   },
   "outputs": [],
   "source": [
    "VISIUM_PATH = os.path.join(SPATIALDATA_SANDBOX_PATH, \"visium_associated_xenium_io/data.zarr\")"
   ]
  },
  {
   "cell_type": "markdown",
   "id": "9fee409f-48cc-4941-9b0c-56ef2c3bcdf7",
   "metadata": {},
   "source": [
    "#### Checking that all the data paths are available."
   ]
  },
  {
   "cell_type": "code",
   "execution_count": 9,
   "id": "f7477616-7a76-4253-83d4-f7f1dbdc0f79",
   "metadata": {
    "tags": []
   },
   "outputs": [],
   "source": [
    "paths = [\n",
    "    BC_SC_ATLAS_PATH,\n",
    "    VISIUM_CLONAL_PATH,\n",
    "    XE_REP1_PATH,\n",
    "    XE_REP2_PATH,\n",
    "    VISIUM_PATH,\n",
    "    LANDMARKS_SDATA_PATH,\n",
    "]\n",
    "for path in paths:\n",
    "    assert os.path.exists(path), f\"{path} not found\""
   ]
  },
  {
   "cell_type": "markdown",
   "id": "780d4b35-89fa-4c64-acb3-26986d81737e",
   "metadata": {
    "tags": []
   },
   "source": [
    "#### Data that will be generated by this notebook\n",
    "\n",
    "The notebook will update in-place some of the root files above, and will also create the following Zarr files"
   ]
  },
  {
   "cell_type": "code",
   "execution_count": 10,
   "id": "d371cb73-2620-4791-ab5f-b1488a31ba27",
   "metadata": {
    "tags": []
   },
   "outputs": [],
   "source": [
    "# this the output path for xe_rep1\n",
    "XE_REP1_ROI_PATH = os.path.join(GENERATED_DATA_PATH, \"xe_rep1_roi.zarr\")\n",
    "# this the output path for xe_rep2\n",
    "XE_REP2_ROI_PATH = os.path.join(GENERATED_DATA_PATH, \"xe_rep2_roi.zarr\")\n",
    "# this the output path for visium\n",
    "VISIUM_ROI_PATH = os.path.join(GENERATED_DATA_PATH, \"visium_roi.zarr\")"
   ]
  },
  {
   "cell_type": "markdown",
   "id": "cc7f626a-1c1a-4e35-912c-6c05a0b6057c",
   "metadata": {},
   "source": [
    "### Loading the data"
   ]
  },
  {
   "cell_type": "code",
   "execution_count": 11,
   "id": "62e23f90-46ce-4833-8dd2-34373d94497b",
   "metadata": {
    "tags": []
   },
   "outputs": [
    {
     "name": "stderr",
     "output_type": "stream",
     "text": [
      "/Users/macbook/miniconda3/envs/ome/lib/python3.10/site-packages/anndata/_core/anndata.py:121: ImplicitModificationWarning: Transforming to str index.\n",
      "  warnings.warn(\"Transforming to str index.\", ImplicitModificationWarning)\n",
      "/Users/macbook/miniconda3/envs/ome/lib/python3.10/site-packages/anndata/_core/anndata.py:1830: UserWarning: Variable names are not unique. To make them unique, call `.var_names_make_unique`.\n",
      "  utils.warn_names_duplicates(\"var\")\n"
     ]
    }
   ],
   "source": [
    "bc_sc_atlas_adata = sc.read(BC_SC_ATLAS_PATH)\n",
    "bc_sc_atlas_adata.obs[\"dataset\"] = \"atlas\"\n",
    "\n",
    "xe_rep1_sdata = sd.read_zarr(XE_REP1_PATH)\n",
    "xe_rep1_adata = xe_rep1_sdata.table\n",
    "xe_rep1_adata.obs[\"dataset\"] = \"xe_rep1\"\n",
    "\n",
    "xe_rep2_sdata = sd.read_zarr(XE_REP2_PATH)\n",
    "xe_rep2_adata = xe_rep2_sdata.table\n",
    "xe_rep2_adata.obs[\"dataset\"] = \"xe_rep2\"\n",
    "\n",
    "visium_sdata = sd.read_zarr(VISIUM_PATH)\n",
    "visium_adata = visium_sdata.table\n",
    "visium_adata.obs[\"dataset\"] = \"visium\"\n",
    "\n",
    "landmarks_sdata = sd.read_zarr(LANDMARKS_SDATA_PATH)\n",
    "clonal_adata = sc.read(VISIUM_CLONAL_PATH)"
   ]
  },
  {
   "cell_type": "code",
   "execution_count": 12,
   "id": "d27c3f67-b9e6-40cb-91e2-583cfe2b5a23",
   "metadata": {
    "tags": []
   },
   "outputs": [
    {
     "data": {
      "text/plain": [
       "SpatialData object with:\n",
       "└── Shapes\n",
       "      ├── 'box': GeoDataFrame shape: (1, 1) (2D shapes)\n",
       "      ├── 'rois': GeoDataFrame shape: (4, 1) (2D shapes)\n",
       "      ├── 'visium_lm': GeoDataFrame shape: (3, 2) (2D shapes)\n",
       "      ├── 'xe_rep1_lm': GeoDataFrame shape: (3, 2) (2D shapes)\n",
       "      └── 'xe_rep2_lm': GeoDataFrame shape: (3, 2) (2D shapes)\n",
       "with coordinate systems:\n",
       "▸ 'global', with elements:\n",
       "        box (Shapes), rois (Shapes), visium_lm (Shapes), xe_rep1_lm (Shapes), xe_rep2_lm (Shapes)"
      ]
     },
     "execution_count": 12,
     "metadata": {},
     "output_type": "execute_result"
    }
   ],
   "source": [
    "landmarks_sdata"
   ]
  },
  {
   "cell_type": "markdown",
   "id": "d42fe860-6945-40ce-823e-c82fc833904a",
   "metadata": {},
   "source": [
    "### Integrating annotations"
   ]
  },
  {
   "cell_type": "markdown",
   "id": "687960bf-816f-4691-a58e-1f73596d2459",
   "metadata": {},
   "source": [
    "#### Transferring cell-types into Xenium"
   ]
  },
  {
   "cell_type": "markdown",
   "id": "7e3c1a45-53c1-4c75-9d5e-3b8813ae471e",
   "metadata": {},
   "source": [
    "Let's transfer the cell-types information from an single-cell atlas dataset to the Xenium cells. We will cache the result."
   ]
  },
  {
   "cell_type": "code",
   "execution_count": 13,
   "id": "77b63f5d-4f90-4239-80cf-acb9f95c6db5",
   "metadata": {
    "tags": []
   },
   "outputs": [
    {
     "name": "stdout",
     "output_type": "stream",
     "text": [
      "CPU times: user 188 ms, sys: 89.5 ms, total: 278 ms\n",
      "Wall time: 296 ms\n"
     ]
    }
   ],
   "source": [
    "%%time\n",
    "\n",
    "CELL_TYPES_ALREADY_TRANSFERRED = True\n",
    "if not CELL_TYPES_ALREADY_TRANSFERRED:\n",
    "    # this code can take 10-60 min to execute\n",
    "    xe_rep1_annotated = annotate_bc_xe(bc_sc_atlas_adata, xe_rep1_adata)\n",
    "    xe_rep2_annotated = annotate_bc_xe(bc_sc_atlas_adata, xe_rep2_adata)\n",
    "    xe_rep1_annotated.write(os.path.join(GENERATED_DATA_PATH, \"xe_rep1_annotated.h5ad\"))\n",
    "    xe_rep2_annotated.write(os.path.join(GENERATED_DATA_PATH, \"xe_rep2_annotated.h5ad\"))\n",
    "else:\n",
    "    xe_rep1_annotated = sc.read(os.path.join(GENERATED_DATA_PATH, \"xe_rep1_annotated.h5ad\"))\n",
    "    xe_rep2_annotated = sc.read(os.path.join(GENERATED_DATA_PATH, \"xe_rep2_annotated.h5ad\"))"
   ]
  },
  {
   "cell_type": "code",
   "execution_count": 14,
   "id": "aee8469c-df79-404f-98b7-452641a63905",
   "metadata": {
    "tags": []
   },
   "outputs": [],
   "source": [
    "xe_rep1_sdata.table.obs[[\"celltype_major\", \"celltype_minor\"]] = xe_rep1_annotated.obs[\n",
    "    [\"celltype_major\", \"celltype_minor\"]\n",
    "]\n",
    "xe_rep2_sdata.table.obs[[\"celltype_major\", \"celltype_minor\"]] = xe_rep2_annotated.obs[\n",
    "    [\"celltype_major\", \"celltype_minor\"]\n",
    "]"
   ]
  },
  {
   "cell_type": "markdown",
   "id": "8797d125-0472-46c8-9444-fadcd240ea34",
   "metadata": {},
   "source": [
    "#### Adding clonality information into Visium"
   ]
  },
  {
   "cell_type": "code",
   "execution_count": 15,
   "id": "1fabe825-eb9f-492f-9613-65b937ae5d92",
   "metadata": {
    "tags": []
   },
   "outputs": [],
   "source": [
    "clones = clonal_adata.obs.set_index(\"barcode\").loc[visium_sdata.table.obs.index][\"clone\"]\n",
    "\n",
    "visium_sdata.table.obs[\"clone\"] = clones"
   ]
  },
  {
   "cell_type": "markdown",
   "id": "a1550e01-896f-4efe-8af3-d09738e90c7d",
   "metadata": {},
   "source": [
    "## Spatial alignment"
   ]
  },
  {
   "cell_type": "markdown",
   "id": "f0225dd9-1046-4b96-a95c-fe84031874ad",
   "metadata": {
    "tags": []
   },
   "source": [
    "### Alignment using 3 landmarks points\n",
    "\n",
    "We take `xe_rep1` as the reference section and align the other two to it. The new coordinate systems is called `aligned`."
   ]
  },
  {
   "cell_type": "code",
   "execution_count": 16,
   "id": "4e70d5f5-bfdc-468b-81c7-09a7da691c30",
   "metadata": {
    "tags": []
   },
   "outputs": [],
   "source": [
    "xenium_subset = sd.SpatialData(\n",
    "    images={\n",
    "        \"xe_rep1\": xe_rep1_sdata.images[\"morphology_mip\"],\n",
    "        \"xe_rep2\": xe_rep2_sdata.images[\"morphology_mip\"],\n",
    "        \"visium\": visium_sdata.images[\"CytAssist_FFPE_Human_Breast_Cancer_full_image\"],\n",
    "    }\n",
    ")"
   ]
  },
  {
   "cell_type": "code",
   "execution_count": 17,
   "id": "be8c6f95-6e48-4337-b871-087b92ae2d6c",
   "metadata": {
    "tags": []
   },
   "outputs": [],
   "source": [
    "# this creates the 'aligned` coordinate system, maps the moving (xenium rep 2) and reference elements (xenium rep 1) to that system\n",
    "affine_rep2_to_rep1 = align_elements_using_landmarks(\n",
    "    references_coords=landmarks_sdata.shapes[\"xe_rep1_lm\"],\n",
    "    moving_coords=landmarks_sdata.shapes[\"xe_rep2_lm\"],\n",
    "    reference_element=xenium_subset.images[\"xe_rep1\"],\n",
    "    moving_element=xenium_subset.images[\"xe_rep2\"],\n",
    "    reference_coordinate_system=\"global\",\n",
    "    moving_coordinate_system=\"global\",\n",
    "    new_coordinate_system=\"aligned\",\n",
    ")"
   ]
  },
  {
   "cell_type": "code",
   "execution_count": 18,
   "id": "8cb4dd0a-dec9-4aed-bf70-e06ce133c382",
   "metadata": {
    "tags": []
   },
   "outputs": [],
   "source": [
    "# same as above. Now the moving element is visium and the reference element is again xenium rep 1\n",
    "affine_visium_to_rep1 = align_elements_using_landmarks(\n",
    "    references_coords=landmarks_sdata.shapes[\"xe_rep1_lm\"],\n",
    "    moving_coords=landmarks_sdata.shapes[\"visium_lm\"],\n",
    "    reference_element=xenium_subset.images[\"xe_rep1\"],\n",
    "    moving_element=xenium_subset.images[\"visium\"],\n",
    "    reference_coordinate_system=\"global\",\n",
    "    moving_coordinate_system=\"global\",\n",
    "    new_coordinate_system=\"aligned\",\n",
    ")"
   ]
  },
  {
   "cell_type": "raw",
   "id": "61279c7e-9239-4a08-abc5-6cfbfb364ca0",
   "metadata": {},
   "source": [
    "# we can visualize the results with napari\n",
    "from napari_spatialdata import Interactive\n",
    "\n",
    "Interactive([xenium_subset, landmarks_sdata])"
   ]
  },
  {
   "cell_type": "markdown",
   "id": "22c30486-fc2c-4a48-b865-49b3f933b91b",
   "metadata": {},
   "source": [
    "For each element of xenium rep 1, xenium rep 2 and of visium, let's add a transformation to the coordinate system 'aligned'. This instruct the framework how to map each element to the 'aligned' coordinate system.\n",
    "\n",
    "This part of the code will be simplified and become more ergonomic after the new coordinate systems refactoring."
   ]
  },
  {
   "cell_type": "code",
   "execution_count": 19,
   "id": "8c6a6db4-430d-4eb1-b132-9f849060380f",
   "metadata": {
    "tags": []
   },
   "outputs": [],
   "source": [
    "# we use an identity for xenium rep 1 since we use it as a reference\n",
    "from spatialdata import SpatialData\n",
    "from spatialdata.transformations import BaseTransformation\n",
    "\n",
    "\n",
    "def postpone_transformation(\n",
    "    sdata: SpatialData,\n",
    "    transformation: BaseTransformation,\n",
    "    source_coordinate_system: str,\n",
    "    target_coordinate_system: str,\n",
    "):\n",
    "    for element_type, element_name, element in sdata._gen_elements():\n",
    "        old_transformations = get_transformation(element, get_all=True)\n",
    "        if source_coordinate_system in old_transformations:\n",
    "            old_transformation = old_transformations[source_coordinate_system]\n",
    "            sequence = Sequence([old_transformation, transformation])\n",
    "            set_transformation(element, sequence, target_coordinate_system)\n",
    "\n",
    "\n",
    "postpone_transformation(\n",
    "    sdata=xe_rep1_sdata,\n",
    "    transformation=Identity(),\n",
    "    source_coordinate_system=\"global\",\n",
    "    target_coordinate_system=\"aligned\",\n",
    ")\n",
    "postpone_transformation(\n",
    "    sdata=xe_rep2_sdata,\n",
    "    transformation=affine_rep2_to_rep1,\n",
    "    source_coordinate_system=\"global\",\n",
    "    target_coordinate_system=\"aligned\",\n",
    ")\n",
    "postpone_transformation(\n",
    "    sdata=visium_sdata,\n",
    "    transformation=affine_visium_to_rep1,\n",
    "    source_coordinate_system=\"global\",\n",
    "    target_coordinate_system=\"aligned\",\n",
    ")"
   ]
  },
  {
   "cell_type": "raw",
   "id": "cf95f84c-5e2a-4b57-90c2-d4a867123a05",
   "metadata": {
    "tags": []
   },
   "source": [
    "from napari_spatialdata import Interactive\n",
    "Interactive([xe_rep1_sdata, xe_rep2_sdata, visium_sdata])"
   ]
  },
  {
   "cell_type": "markdown",
   "id": "8a984ab6-798a-418d-9f08-545e136f068b",
   "metadata": {
    "tags": []
   },
   "source": [
    "### Subsetting the objects to the common area"
   ]
  },
  {
   "cell_type": "markdown",
   "id": "4d2f48c1-c0fa-4ff5-8f3a-ed51ca6f766c",
   "metadata": {
    "tags": []
   },
   "source": [
    "We now want to subset each object to the common area between the two Xenium replicates and the Visium data. Currently there is no function available in `spatialdata` to do a spatial subset by a generic polygon (it will be implemented), so for performing this opertation we will manually transform the data to the same coordinate system, and then implement here a version of the spatial subset."
   ]
  },
  {
   "cell_type": "markdown",
   "id": "ca3526e1-f7f9-4a3b-8888-e11b3bf53408",
   "metadata": {},
   "source": [
    "#### Transforming cells and single-molecule points"
   ]
  },
  {
   "cell_type": "markdown",
   "id": "01e9dca6-68d3-46c2-815e-6a115a837b32",
   "metadata": {},
   "source": [
    "We will now transform the data to the `aligned` coordinate system. Note that above we just defined transformations to this coordinate system but we didn't modified the data itself (this is an expensive operation). "
   ]
  },
  {
   "cell_type": "code",
   "execution_count": 20,
   "id": "dfb94345-fb1b-4bc3-a544-951ac49de3c7",
   "metadata": {
    "tags": []
   },
   "outputs": [
    {
     "name": "stdout",
     "output_type": "stream",
     "text": [
      "CPU times: user 32.4 s, sys: 3.78 s, total: 36.1 s\n",
      "Wall time: 29.4 s\n"
     ]
    }
   ],
   "source": [
    "%%time\n",
    "xe_rep1_transformed_sdata = sd.SpatialData(\n",
    "    shapes=xe_rep1_sdata.shapes, points=xe_rep1_sdata.points, table=xe_rep1_sdata.table\n",
    ")\n",
    "\n",
    "xe_rep2_transformed_sdata = sd.SpatialData(\n",
    "    shapes=xe_rep2_sdata.shapes, points=xe_rep2_sdata.points, table=xe_rep2_sdata.table\n",
    ")\n",
    "\n",
    "visium_transformed_sdata = sd.SpatialData(\n",
    "    shapes=visium_sdata.shapes, points=visium_sdata.points, table=visium_sdata.table\n",
    ")\n",
    "\n",
    "xe_rep1_transformed_sdata = xe_rep1_transformed_sdata.transform_to_coordinate_system(\"aligned\")\n",
    "xe_rep2_transformed_sdata = xe_rep2_transformed_sdata.transform_to_coordinate_system(\"aligned\")\n",
    "visium_transformed_sdata = visium_transformed_sdata.transform_to_coordinate_system(\"aligned\")"
   ]
  },
  {
   "cell_type": "markdown",
   "id": "1988f876-4bf3-4b59-a88f-caaf30fc23f3",
   "metadata": {},
   "source": [
    "#### Getting the polygon describing the common area"
   ]
  },
  {
   "cell_type": "code",
   "execution_count": 21,
   "id": "81c02879-c955-470f-84e9-132c8f3ebf7b",
   "metadata": {
    "tags": []
   },
   "outputs": [],
   "source": [
    "from geopandas import GeoSeries\n",
    "\n",
    "\n",
    "def get_extent(geoseries: GeoSeries):\n",
    "    min_x, min_y = np.min(geoseries.bounds.iloc[:, :2], axis=0)\n",
    "    max_x, max_y = np.max(geoseries.bounds.iloc[:, 2:], axis=0)\n",
    "    print(f\"min_x = {min_x}, min_y = {min_y}, max_x = {max_x}, max_y = {max_y}\")"
   ]
  },
  {
   "cell_type": "code",
   "execution_count": 22,
   "id": "59237ff7-d85c-40f8-8413-5bafb3763a46",
   "metadata": {
    "tags": []
   },
   "outputs": [
    {
     "data": {
      "image/svg+xml": [
       "<svg xmlns=\"http://www.w3.org/2000/svg\" xmlns:xlink=\"http://www.w3.org/1999/xlink\" width=\"300\" height=\"300\" viewBox=\"-1355.8569197161169 6993.105878557837 37019.77407969631 20167.240548875372\" preserveAspectRatio=\"xMinYMin meet\"><g transform=\"matrix(1,0,0,-1,0,34153.45230599105)\"><path fill-rule=\"evenodd\" fill=\"#66cc99\" stroke=\"#555555\" stroke-width=\"246.79849386464207\" opacity=\"0.6\" d=\"M 21.34893437256187,8364.208622250293 L 34292.814416287736,9565.637770390313 L 33729.88869259738,25789.243683740755 L 15.245823976339238,25763.451935741257 L 21.34893437256187,8364.208622250293 z\" /></g></svg>"
      ],
      "text/plain": [
       "<POLYGON ((21.349 8364.209, 34292.814 9565.638, 33729.889 25789.244, 15.246 ...>"
      ]
     },
     "execution_count": 22,
     "metadata": {},
     "output_type": "execute_result"
    }
   ],
   "source": [
    "# we manually draw the polygon that contains the common area between the samples\n",
    "box = landmarks_sdata.shapes[\"box\"]\n",
    "# let's get the Polygon object out of the GeoDataFrame\n",
    "box = box.geometry.iloc[0]\n",
    "box"
   ]
  },
  {
   "cell_type": "markdown",
   "id": "1965e011-e282-4967-8698-bedf75dd8b1a",
   "metadata": {},
   "source": [
    "#### Filtering the data inside the common area"
   ]
  },
  {
   "cell_type": "markdown",
   "id": "d5a07c5e-7d78-4bd3-a03d-9a8fc85516e7",
   "metadata": {},
   "source": [
    "Helper functions to convert back and forth between points and shapes, these functions will not be needed in a later version of `spatialdata` as we will use `geopandas` also for representing points and not just shapes."
   ]
  },
  {
   "cell_type": "code",
   "execution_count": 23,
   "id": "35e06f43-e706-4ca1-a0a7-bf7e0fcae409",
   "metadata": {
    "tags": []
   },
   "outputs": [],
   "source": [
    "from dask.dataframe.core import DataFrame as DaskDataFrame\n",
    "from geopandas import GeoDataFrame\n",
    "\n",
    "\n",
    "def points_dask_dataframe_to_geopandas(points: DaskDataFrame) -> GeoDataFrame:\n",
    "    # let's ignore the z component here\n",
    "    points_gdf = GeoDataFrame(geometry=geopandas.points_from_xy(points[\"x\"], points[\"y\"]))\n",
    "    for c in points.columns:\n",
    "        points_gdf[c] = points[c]\n",
    "    return points_gdf\n",
    "\n",
    "\n",
    "def points_geopandas_to_dask_dataframe(gdf: GeoDataFrame) -> DaskDataFrame:\n",
    "    # convert the GeoDataFrame to a Dask DataFrame\n",
    "    ddf = dd.from_pandas(gdf[gdf.columns.drop(\"geometry\")], npartitions=1)\n",
    "    ddf[\"x\"] = gdf.geometry.x\n",
    "    ddf[\"y\"] = gdf.geometry.y\n",
    "    # parse\n",
    "    ddf = PointsModel.parse(ddf, coordinates={\"x\": \"x\", \"y\": \"y\"})\n",
    "    return ddf"
   ]
  },
  {
   "cell_type": "markdown",
   "id": "2c6f35f3-5560-4eef-940b-5a928ad8654d",
   "metadata": {},
   "source": [
    "The functions below implement spatial queries operations on polygons. These functions will be implemented in SpatialData and the code will become simpler."
   ]
  },
  {
   "cell_type": "code",
   "execution_count": 24,
   "id": "e615bb57-66a7-4ec4-ba16-1d2f271016aa",
   "metadata": {
    "tags": []
   },
   "outputs": [
    {
     "name": "stdout",
     "output_type": "stream",
     "text": [
      "CPU times: user 18 µs, sys: 0 ns, total: 18 µs\n",
      "Wall time: 20 µs\n"
     ]
    }
   ],
   "source": [
    "%%time\n",
    "\n",
    "import dask.dataframe as dd\n",
    "from dask.dataframe.core import DataFrame as DaskDataFrame\n",
    "from shapely import Polygon\n",
    "from spatialdata.models import PointsModel, ShapesModel\n",
    "\n",
    "\n",
    "def spatial_query_shapes_and_points_by_polygon(sdata: SpatialData, polygon: Polygon, target_coordinate_system: str):\n",
    "    new_shapes = {}\n",
    "    for shapes_name, shapes in sdata.shapes.items():\n",
    "        if \"__old_index\" in shapes.columns:\n",
    "            assert np.all(shapes[\"__old_index\"] == shapes.index)\n",
    "        else:\n",
    "            shapes[\"__old_index\"] = shapes.index\n",
    "        # indices = shapes.intersects(polygon)\n",
    "        # indices = shapes.geometry.apply(lambda x: x.intersects(polygon).values.tolist()[0][0])\n",
    "        indices = shapes.geometry.apply(lambda x: x.intersects(polygon))\n",
    "        if np.sum(indices) == 0:\n",
    "            raise ValueError(\"we expect at least one shape\")\n",
    "        queried_shapes = shapes[indices]\n",
    "        queried_shapes.index = queried_shapes[\"__old_index\"]\n",
    "        del shapes[\"__old_index\"]\n",
    "        del queried_shapes[\"__old_index\"]\n",
    "        transformation = get_transformation(shapes, target_coordinate_system)\n",
    "        queried_shapes = ShapesModel.parse(queried_shapes)\n",
    "        set_transformation(queried_shapes, transformation, target_coordinate_system)\n",
    "        new_shapes[shapes_name] = queried_shapes\n",
    "\n",
    "    new_points = {}\n",
    "    for points_name, points in sdata.points.items():\n",
    "        # let's ignore the z component here\n",
    "        points_gdf = points_dask_dataframe_to_geopandas(points)\n",
    "        # queried_points = points_gdf.intersects(pp)\n",
    "        indices = points_gdf.geometry.intersects(polygon)\n",
    "        if np.sum(indices) == 0:\n",
    "            raise ValueError(\"we expect at least one point\")\n",
    "        queried_points = points_gdf[indices]\n",
    "        ddf = points_geopandas_to_dask_dataframe(queried_points)\n",
    "        transformation = get_transformation(points, target_coordinate_system)\n",
    "        ddf = PointsModel.parse(ddf, coordinates={\"x\": \"x\", \"y\": \"y\", \"z\": \"z\"})\n",
    "        set_transformation(ddf, transformation, target_coordinate_system)\n",
    "        new_points[points_name] = ddf\n",
    "\n",
    "    return SpatialData(shapes=new_shapes, points=new_points, table=sdata.table)"
   ]
  },
  {
   "cell_type": "code",
   "execution_count": 25,
   "id": "b81e294b-3f35-412f-bf1c-78c1b5b176de",
   "metadata": {
    "tags": []
   },
   "outputs": [
    {
     "name": "stdout",
     "output_type": "stream",
     "text": [
      "CPU times: user 4min 33s, sys: 53.8 s, total: 5min 27s\n",
      "Wall time: 4min 7s\n"
     ]
    }
   ],
   "source": [
    "%%time\n",
    "# let's keep only the shapes inside the query polygon (roi)\n",
    "# and then let's manually filter the table to keep only the rows that are inside the polygon pp\n",
    "xe_rep1_roi_sdata = spatial_query_shapes_and_points_by_polygon(\n",
    "    sdata=xe_rep1_transformed_sdata,\n",
    "    polygon=box,\n",
    "    target_coordinate_system=\"aligned\",\n",
    ")"
   ]
  },
  {
   "cell_type": "code",
   "execution_count": 26,
   "id": "7ecfd890-33e1-4895-af78-eb15994980e7",
   "metadata": {
    "tags": []
   },
   "outputs": [],
   "source": [
    "merged = pd.merge(\n",
    "    xe_rep1_roi_sdata.table.obs[[\"cell_id\"]],\n",
    "    xe_rep1_roi_sdata.shapes[\"cell_circles\"],\n",
    "    how=\"right\",\n",
    "    left_on=\"cell_id\",\n",
    "    right_index=True,\n",
    ")\n",
    "filtered_table = xe_rep1_roi_sdata.table[merged.index].copy()\n",
    "del xe_rep1_roi_sdata.table\n",
    "xe_rep1_roi_sdata.table = filtered_table"
   ]
  },
  {
   "cell_type": "code",
   "execution_count": 27,
   "id": "ebbb82b8-b7ac-4333-94f1-39631b8ec879",
   "metadata": {
    "tags": []
   },
   "outputs": [
    {
     "name": "stdout",
     "output_type": "stream",
     "text": [
      "CPU times: user 4min 33s, sys: 2min 32s, total: 7min 5s\n",
      "Wall time: 4min 16s\n"
     ]
    }
   ],
   "source": [
    "%%time\n",
    "xe_rep2_roi_sdata = spatial_query_shapes_and_points_by_polygon(\n",
    "    sdata=xe_rep2_transformed_sdata,\n",
    "    polygon=box,\n",
    "    target_coordinate_system=\"aligned\",\n",
    ")"
   ]
  },
  {
   "cell_type": "code",
   "execution_count": 28,
   "id": "d967eae0-8f28-4a57-8a30-aad6f57ae7da",
   "metadata": {
    "tags": []
   },
   "outputs": [],
   "source": [
    "merged = pd.merge(\n",
    "    xe_rep2_roi_sdata.table.obs[[\"cell_id\"]],\n",
    "    xe_rep2_roi_sdata.shapes[\"cell_circles\"],\n",
    "    how=\"right\",\n",
    "    left_on=\"cell_id\",\n",
    "    right_index=True,\n",
    ")\n",
    "filtered_table = xe_rep2_roi_sdata.table[merged.index].copy()\n",
    "del xe_rep2_roi_sdata.table\n",
    "xe_rep2_roi_sdata.table = filtered_table"
   ]
  },
  {
   "cell_type": "code",
   "execution_count": 29,
   "id": "5ed2592d-4042-498b-9b52-4281f14a621a",
   "metadata": {
    "tags": []
   },
   "outputs": [
    {
     "name": "stdout",
     "output_type": "stream",
     "text": [
      "CPU times: user 61.1 ms, sys: 2.03 ms, total: 63.1 ms\n",
      "Wall time: 63.2 ms\n"
     ]
    }
   ],
   "source": [
    "%%time\n",
    "visium_roi_sdata = spatial_query_shapes_and_points_by_polygon(\n",
    "    sdata=visium_transformed_sdata,\n",
    "    polygon=box,\n",
    "    target_coordinate_system=\"aligned\",\n",
    ")"
   ]
  },
  {
   "cell_type": "code",
   "execution_count": 30,
   "id": "cd3315e8-5293-465a-820c-9817a8263889",
   "metadata": {
    "tags": []
   },
   "outputs": [],
   "source": [
    "merged = pd.merge(\n",
    "    visium_roi_sdata.table.obs[[\"spot_id\"]],\n",
    "    visium_roi_sdata.shapes[\"CytAssist_FFPE_Human_Breast_Cancer\"],\n",
    "    how=\"right\",\n",
    "    left_on=\"spot_id\",\n",
    "    right_index=True,\n",
    ")\n",
    "filtered_table = visium_roi_sdata.table[visium_roi_sdata.shapes[\"CytAssist_FFPE_Human_Breast_Cancer\"].index].copy()\n",
    "del visium_roi_sdata.table\n",
    "visium_roi_sdata.table = filtered_table"
   ]
  },
  {
   "cell_type": "markdown",
   "id": "4e7b515f-6085-4d82-a8c9-4050722142ce",
   "metadata": {},
   "source": [
    "### Subsetting the objects to the common genes"
   ]
  },
  {
   "cell_type": "code",
   "execution_count": 31,
   "id": "04d95605-c177-4a9d-9abc-70dd177db33d",
   "metadata": {
    "tags": []
   },
   "outputs": [],
   "source": [
    "from copy import copy\n",
    "\n",
    "sel_genes = list(set(visium_roi_sdata.table.var_names) & (set(xe_rep1_roi_sdata.table.var_names)))\n",
    "\n",
    "filtered_table = xe_rep1_roi_sdata.table[:, sel_genes].copy()\n",
    "del xe_rep1_roi_sdata.table\n",
    "xe_rep1_roi_sdata.table = filtered_table\n",
    "\n",
    "filtered_table = xe_rep2_roi_sdata.table[:, sel_genes].copy()\n",
    "del xe_rep2_roi_sdata.table\n",
    "xe_rep2_roi_sdata.table = filtered_table\n",
    "\n",
    "filtered_table = visium_roi_sdata.table[:, sel_genes].copy()\n",
    "del visium_roi_sdata.table\n",
    "visium_roi_sdata.table = filtered_table"
   ]
  },
  {
   "cell_type": "markdown",
   "id": "acc9672f-1657-4326-9c06-f20f256c9d8d",
   "metadata": {},
   "source": [
    "## Aggregation of cell-types and gene expression from the Xenium cells into the Visium circles"
   ]
  },
  {
   "cell_type": "markdown",
   "id": "28cd1cda-1b29-427c-a6e4-90b46660eec9",
   "metadata": {},
   "source": [
    "We will now aggregate the cell-type information and the gene expression into the Visium circles. These aggregation functionalities are not yet available in `spatialdata` so we implement them here. The corresponding code will be moved inside the `spatialdata` package."
   ]
  },
  {
   "cell_type": "code",
   "execution_count": 32,
   "id": "c29c5d1c-9afc-46a4-8e7e-efc176eb086b",
   "metadata": {
    "tags": []
   },
   "outputs": [
    {
     "name": "stderr",
     "output_type": "stream",
     "text": [
      "/Users/macbook/miniconda3/envs/ome/lib/python3.10/site-packages/geopandas/geodataframe.py:1443: SettingWithCopyWarning: \n",
      "A value is trying to be set on a copy of a slice from a DataFrame.\n",
      "Try using .loc[row_indexer,col_indexer] = value instead\n",
      "\n",
      "See the caveats in the documentation: https://pandas.pydata.org/pandas-docs/stable/user_guide/indexing.html#returning-a-view-versus-a-copy\n",
      "  super().__setitem__(key, value)\n",
      "/Users/macbook/miniconda3/envs/ome/lib/python3.10/site-packages/geopandas/geodataframe.py:1443: SettingWithCopyWarning: \n",
      "A value is trying to be set on a copy of a slice from a DataFrame.\n",
      "Try using .loc[row_indexer,col_indexer] = value instead\n",
      "\n",
      "See the caveats in the documentation: https://pandas.pydata.org/pandas-docs/stable/user_guide/indexing.html#returning-a-view-versus-a-copy\n",
      "  super().__setitem__(key, value)\n"
     ]
    },
    {
     "name": "stdout",
     "output_type": "stream",
     "text": [
      "CPU times: user 8.68 s, sys: 153 ms, total: 8.83 s\n",
      "Wall time: 8.87 s\n"
     ]
    }
   ],
   "source": [
    "%%time\n",
    "visium_spots_polygons = visium_roi_sdata.shapes[\"CytAssist_FFPE_Human_Breast_Cancer\"].copy()\n",
    "visium_spots_polygons[\"geometry\"] = visium_spots_polygons.buffer(visium_spots_polygons.radius.iloc[0], 128)\n",
    "visium_spots_polygons[\"spot_id\"] = visium_spots_polygons.index\n",
    "xe_rep1_roi_sdata.shapes[\"cell_boundaries\"][\"cell_id\"] = xe_rep1_roi_sdata.shapes[\"cell_boundaries\"].index\n",
    "xe_rep2_roi_sdata.shapes[\"cell_boundaries\"][\"cell_id\"] = xe_rep2_roi_sdata.shapes[\"cell_boundaries\"].index\n",
    "\n",
    "spots_xe_rep1 = visium_spots_polygons.overlay(xe_rep1_roi_sdata.shapes[\"cell_boundaries\"], how=\"intersection\")\n",
    "spots_xe_rep2 = visium_spots_polygons.overlay(xe_rep2_roi_sdata.shapes[\"cell_boundaries\"], how=\"intersection\")"
   ]
  },
  {
   "cell_type": "markdown",
   "id": "8107362c-0c55-44ea-ac59-1fcf553e9498",
   "metadata": {},
   "source": [
    "Each Visium circle is deconvolved based on the intersected areas with the xenium cells. We do this for both repolicates and at the minor and major cell type levels."
   ]
  },
  {
   "cell_type": "markdown",
   "id": "597752f1-6cf5-4f5f-9710-b2323f6cdca3",
   "metadata": {},
   "source": [
    "### Xenium replicate 1"
   ]
  },
  {
   "cell_type": "code",
   "execution_count": 33,
   "id": "629f45c1-fa4a-471d-9adc-fa79c8332b32",
   "metadata": {
    "tags": []
   },
   "outputs": [
    {
     "name": "stderr",
     "output_type": "stream",
     "text": [
      "/tmp/ipykernel_92459/772322310.py:13: FutureWarning: The frame.append method is deprecated and will be removed from pandas in a future version. Use pandas.concat instead.\n",
      "  ss = ss.append(ms_df)\n",
      "/tmp/ipykernel_92459/772322310.py:16: FutureWarning: The frame.append method is deprecated and will be removed from pandas in a future version. Use pandas.concat instead.\n",
      "  ss_raw = ss_raw.append(ms_df)\n"
     ]
    }
   ],
   "source": [
    "from sklearn.preprocessing import OneHotEncoder\n",
    "\n",
    "spots_xe_rep1[\"area\"] = spots_xe_rep1[\"geometry\"].area\n",
    "ss = spots_xe_rep1.pivot_table(\n",
    "    index=[\"spot_id\"], columns=\"cell_id\", values=\"area\", aggfunc=\"sum\"  # add margins\n",
    ").fillna(0)\n",
    "ss_raw = ss.copy()\n",
    "ss = ss.div(ss.sum(axis=1), axis=0)\n",
    "\n",
    "missing_spots = list(set(visium_spots_polygons[\"spot_id\"]).difference(set(ss.index)))\n",
    "ms_df = pd.DataFrame([[0] * ss.shape[1]], columns=ss.columns, index=missing_spots)\n",
    "\n",
    "ss = ss.append(ms_df)\n",
    "ss = ss.loc[visium_roi_sdata.table.obs[\"spot_id\"]]\n",
    "\n",
    "ss_raw = ss_raw.append(ms_df)\n",
    "ss_raw = ss_raw.loc[visium_roi_sdata.table.obs[\"spot_id\"]]"
   ]
  },
  {
   "cell_type": "code",
   "execution_count": 34,
   "id": "824a3562-4d97-4570-8a15-bcc151cec91e",
   "metadata": {
    "tags": []
   },
   "outputs": [
    {
     "name": "stderr",
     "output_type": "stream",
     "text": [
      "/tmp/ipykernel_92459/1811748043.py:11: FutureWarning: X.dtype being converted to np.float32 from float64. In the next version of anndata (0.9) conversion will not be automatic. Pass dtype explicitly to avoid this warning. Pass `AnnData(X, dtype=X.dtype, ...)` to get the future behavour.\n",
      "  visium_gene_expression_from_xenium_cells_rep1 = anndata.AnnData(C.toarray(), var=xe_rep1_sdata.table.var)\n"
     ]
    }
   ],
   "source": [
    "area_cells = xe_rep1_roi_sdata.shapes[\"cell_boundaries\"][\n",
    "    xe_rep1_roi_sdata.shapes[\"cell_boundaries\"].index.isin(ss_raw.columns.tolist())\n",
    "].geometry.area\n",
    "\n",
    "A = ss_raw.div(area_cells, axis=1)\n",
    "B = xe_rep1_sdata.table[xe_rep1_sdata.table.obs.cell_id.isin(ss.columns.tolist())]\n",
    "\n",
    "sparse_A = sparse.csr_matrix(A)\n",
    "C = sparse_A @ B.X\n",
    "# gene expression interpolating Xenium cells gene expression into Visium circles\n",
    "visium_gene_expression_from_xenium_cells_rep1 = anndata.AnnData(C.toarray(), var=xe_rep1_sdata.table.var)"
   ]
  },
  {
   "cell_type": "code",
   "execution_count": 35,
   "id": "c5ba1330-0c73-44af-b2c1-9de1a4a8ac0d",
   "metadata": {
    "tags": []
   },
   "outputs": [],
   "source": [
    "ohe = OneHotEncoder()\n",
    "major_one = ohe.fit_transform(xe_rep1_sdata.table[list(ss.columns), :].obs[[\"celltype_major\"]])\n",
    "spot_xe_rep1_types = ss.to_numpy() @ major_one\n",
    "visium_roi_sdata.table.obsm[\"xe_rep1_celltype_major\"] = spot_xe_rep1_types\n",
    "\n",
    "ohe = OneHotEncoder()\n",
    "minor_one = ohe.fit_transform(xe_rep1_sdata.table[list(ss.columns), :].obs[[\"celltype_minor\"]])\n",
    "spot_xe_rep1_types = ss.to_numpy() @ minor_one\n",
    "visium_roi_sdata.table.obsm[\"xe_rep1_celltype_minor\"] = spot_xe_rep1_types"
   ]
  },
  {
   "cell_type": "code",
   "execution_count": 36,
   "id": "21cc04a5-e8b0-487e-b7ab-ab95d3646663",
   "metadata": {
    "tags": []
   },
   "outputs": [],
   "source": [
    "visium_roi_sdata.table.layers[\"xe_rep1_cells\"] = visium_gene_expression_from_xenium_cells_rep1[:, sel_genes].X.copy()"
   ]
  },
  {
   "cell_type": "markdown",
   "id": "c9cf9880-a91d-421a-80c1-2c533707d033",
   "metadata": {},
   "source": [
    "### Xenium replicate 2"
   ]
  },
  {
   "cell_type": "code",
   "execution_count": 37,
   "id": "7c4db55b-3acd-4b72-b568-85854b364097",
   "metadata": {
    "tags": []
   },
   "outputs": [
    {
     "name": "stderr",
     "output_type": "stream",
     "text": [
      "/tmp/ipykernel_92459/4027164512.py:11: FutureWarning: The frame.append method is deprecated and will be removed from pandas in a future version. Use pandas.concat instead.\n",
      "  ss = ss.append(ms_df)\n",
      "/tmp/ipykernel_92459/4027164512.py:14: FutureWarning: The frame.append method is deprecated and will be removed from pandas in a future version. Use pandas.concat instead.\n",
      "  ss_raw = ss_raw.append(ms_df)\n"
     ]
    }
   ],
   "source": [
    "spots_xe_rep2[\"area\"] = spots_xe_rep2[\"geometry\"].area\n",
    "ss = spots_xe_rep2.pivot_table(\n",
    "    index=[\"spot_id\"], columns=\"cell_id\", values=\"area\", aggfunc=\"sum\"  # add margins\n",
    ").fillna(0)\n",
    "ss_raw = ss.copy()\n",
    "ss = ss.div(ss.sum(axis=1), axis=0)\n",
    "\n",
    "missing_spots = list(set(visium_spots_polygons[\"spot_id\"]).difference(set(ss.index)))\n",
    "ms_df = pd.DataFrame([[0] * ss.shape[1]], columns=ss.columns, index=missing_spots)\n",
    "\n",
    "ss = ss.append(ms_df)\n",
    "ss = ss.loc[visium_roi_sdata.table.obs[\"spot_id\"]]\n",
    "\n",
    "ss_raw = ss_raw.append(ms_df)\n",
    "ss_raw = ss_raw.loc[visium_roi_sdata.table.obs[\"spot_id\"]]"
   ]
  },
  {
   "cell_type": "code",
   "execution_count": 38,
   "id": "0315e369-cefb-4cdf-88fe-37e4d44b7bbe",
   "metadata": {
    "tags": []
   },
   "outputs": [
    {
     "name": "stderr",
     "output_type": "stream",
     "text": [
      "/tmp/ipykernel_92459/4217106382.py:11: FutureWarning: X.dtype being converted to np.float32 from float64. In the next version of anndata (0.9) conversion will not be automatic. Pass dtype explicitly to avoid this warning. Pass `AnnData(X, dtype=X.dtype, ...)` to get the future behavour.\n",
      "  visium_gene_expression_from_xenium_cells_rep2 = anndata.AnnData(C.toarray(), var=xe_rep2_sdata.table.var)\n"
     ]
    }
   ],
   "source": [
    "area_cells = xe_rep2_roi_sdata.shapes[\"cell_boundaries\"][\n",
    "    xe_rep2_roi_sdata.shapes[\"cell_boundaries\"].index.isin(ss_raw.columns.tolist())\n",
    "].geometry.area\n",
    "\n",
    "A = ss_raw.div(area_cells, axis=1)\n",
    "B = xe_rep2_sdata.table[xe_rep2_sdata.table.obs.cell_id.isin(ss.columns.tolist())]\n",
    "\n",
    "sparse_A = sparse.csr_matrix(A)\n",
    "C = sparse_A @ B.X\n",
    "# gene expression interpolating Xenium cells gene expression into Visium circles\n",
    "visium_gene_expression_from_xenium_cells_rep2 = anndata.AnnData(C.toarray(), var=xe_rep2_sdata.table.var)"
   ]
  },
  {
   "cell_type": "code",
   "execution_count": 39,
   "id": "3004b6c2-e335-4beb-91fe-01c0f147ec45",
   "metadata": {
    "tags": []
   },
   "outputs": [],
   "source": [
    "ohe = OneHotEncoder()\n",
    "major_one = ohe.fit_transform(xe_rep2_sdata.table[list(ss.columns), :].obs[[\"celltype_major\"]])\n",
    "spot_xe_rep2_types = ss.to_numpy() @ major_one\n",
    "visium_roi_sdata.table.obsm[\"xe_rep2_celltype_major\"] = spot_xe_rep2_types\n",
    "\n",
    "ohe = OneHotEncoder()\n",
    "minor_one = ohe.fit_transform(xe_rep2_sdata.table[list(ss.columns), :].obs[[\"celltype_minor\"]])\n",
    "spot_xe_rep2_types = ss.to_numpy() @ minor_one\n",
    "visium_roi_sdata.table.obsm[\"xe_rep2_celltype_minor\"] = spot_xe_rep2_types"
   ]
  },
  {
   "cell_type": "code",
   "execution_count": 40,
   "id": "4431f66e-8fdb-44a5-83d9-37959381c5df",
   "metadata": {
    "tags": []
   },
   "outputs": [],
   "source": [
    "visium_roi_sdata.table.layers[\"xe_rep2_cells\"] = visium_gene_expression_from_xenium_cells_rep2[:, sel_genes].X.copy()"
   ]
  },
  {
   "cell_type": "markdown",
   "id": "d7157d47-51c8-4bc8-b3e8-48e1637033f2",
   "metadata": {},
   "source": [
    "## Aggregation of gene expression from the Xenium single-molecule points into the Visium Circles"
   ]
  },
  {
   "cell_type": "code",
   "execution_count": 41,
   "id": "f5b9d01b-ee48-4a77-aeac-00e974879940",
   "metadata": {
    "tags": []
   },
   "outputs": [
    {
     "name": "stdout",
     "output_type": "stream",
     "text": [
      "CPU times: user 1min 6s, sys: 1min 1s, total: 2min 7s\n",
      "Wall time: 2min 16s\n"
     ]
    }
   ],
   "source": [
    "%%time\n",
    "xe_rep1_tx_roi = points_dask_dataframe_to_geopandas(xe_rep1_roi_sdata.points[\"transcripts\"])\n",
    "xe_rep2_tx_roi = points_dask_dataframe_to_geopandas(xe_rep2_roi_sdata.points[\"transcripts\"])"
   ]
  },
  {
   "cell_type": "code",
   "execution_count": 42,
   "id": "d9c71081-e886-44d0-897a-02feefc7b6ff",
   "metadata": {
    "tags": []
   },
   "outputs": [
    {
     "name": "stdout",
     "output_type": "stream",
     "text": [
      "CPU times: user 4min 7s, sys: 24.6 s, total: 4min 32s\n",
      "Wall time: 4min 43s\n"
     ]
    }
   ],
   "source": [
    "%%time\n",
    "spots_xe_rep1_tx = xe_rep1_tx_roi.overlay(visium_spots_polygons, how=\"intersection\")"
   ]
  },
  {
   "cell_type": "code",
   "execution_count": 43,
   "id": "a4f00255-299f-4296-8d0d-fe1e6607f6b9",
   "metadata": {
    "tags": []
   },
   "outputs": [
    {
     "name": "stdout",
     "output_type": "stream",
     "text": [
      "CPU times: user 3min 59s, sys: 24.7 s, total: 4min 23s\n",
      "Wall time: 4min 33s\n"
     ]
    }
   ],
   "source": [
    "%%time\n",
    "spots_xe_rep2_tx = xe_rep2_tx_roi.overlay(visium_spots_polygons, how=\"intersection\")"
   ]
  },
  {
   "cell_type": "code",
   "execution_count": 44,
   "id": "de9eee3c-da09-434e-b04c-6b0a96f06a19",
   "metadata": {
    "tags": []
   },
   "outputs": [],
   "source": [
    "# TODO fix bug with feature_name: https://github.com/scverse/spatialdata-io/issues/25\n",
    "spots_xe_rep1_tx[\"feature_name\"] = [gene[2:-1] for gene in spots_xe_rep1_tx[\"feature_name\"]]\n",
    "spots_xe_rep2_tx[\"feature_name\"] = [gene[2:-1] for gene in spots_xe_rep2_tx[\"feature_name\"]]"
   ]
  },
  {
   "cell_type": "markdown",
   "id": "e4928fd6-2af8-47fd-b04c-921c08dec2e6",
   "metadata": {},
   "source": [
    "Note that for some Visium circles we don't have any transcript inside, so we need to manually ad those Visium circles (and re-sort the indices to match the original ordering)."
   ]
  },
  {
   "cell_type": "code",
   "execution_count": 45,
   "id": "595f3b3f-5c6a-439f-a2ac-1f5a21e548c9",
   "metadata": {
    "tags": []
   },
   "outputs": [
    {
     "name": "stderr",
     "output_type": "stream",
     "text": [
      "/tmp/ipykernel_92459/1156759449.py:16: FutureWarning: The frame.append method is deprecated and will be removed from pandas in a future version. Use pandas.concat instead.\n",
      "  spots_xe_rep1_counts = spots_xe_rep1_counts.append(ms_df)\n"
     ]
    }
   ],
   "source": [
    "spots_xe_rep1_tx[\"ones\"] = 1.0\n",
    "spots_xe_rep1_tx\n",
    "\n",
    "spots_xe_rep1_counts = spots_xe_rep1_tx.pivot_table(\n",
    "    index=[\"spot_id\"],\n",
    "    columns=\"feature_name\",\n",
    "    values=\"ones\",  # add margins\n",
    "    aggfunc=\"sum\",\n",
    ").fillna(0)\n",
    "missing_spots = list(set(visium_spots_polygons[\"spot_id\"]).difference(set(spots_xe_rep1_counts.index)))\n",
    "ms_df = pd.DataFrame(\n",
    "    [[0] * spots_xe_rep1_counts.shape[1]],\n",
    "    columns=spots_xe_rep1_counts.columns,\n",
    "    index=missing_spots,\n",
    ")\n",
    "spots_xe_rep1_counts = spots_xe_rep1_counts.append(ms_df)\n",
    "spots_xe_rep1_counts = spots_xe_rep1_counts.loc[visium_roi_sdata.table.obs[\"spot_id\"]]\n",
    "spots_xe_rep1_counts = spots_xe_rep1_counts[sel_genes].to_numpy()\n",
    "visium_roi_sdata.table.layers[\"xe_rep1_tx\"] = spots_xe_rep1_counts"
   ]
  },
  {
   "cell_type": "code",
   "execution_count": 46,
   "id": "cde58542-5bcd-4e5b-b262-df98ba28842f",
   "metadata": {
    "tags": []
   },
   "outputs": [
    {
     "name": "stderr",
     "output_type": "stream",
     "text": [
      "/tmp/ipykernel_92459/3152742422.py:16: FutureWarning: The frame.append method is deprecated and will be removed from pandas in a future version. Use pandas.concat instead.\n",
      "  spots_xe_rep2_counts = spots_xe_rep2_counts.append(ms_df)\n"
     ]
    }
   ],
   "source": [
    "spots_xe_rep2_tx[\"ones\"] = 1.0\n",
    "spots_xe_rep2_tx\n",
    "\n",
    "spots_xe_rep2_counts = spots_xe_rep2_tx.pivot_table(\n",
    "    index=[\"spot_id\"],\n",
    "    columns=\"feature_name\",\n",
    "    values=\"ones\",  # add margins\n",
    "    aggfunc=\"sum\",\n",
    ").fillna(0)\n",
    "missing_spots = list(set(visium_spots_polygons[\"spot_id\"]).difference(set(spots_xe_rep2_counts.index)))\n",
    "ms_df = pd.DataFrame(\n",
    "    [[0] * spots_xe_rep2_counts.shape[1]],\n",
    "    columns=spots_xe_rep2_counts.columns,\n",
    "    index=missing_spots,\n",
    ")\n",
    "spots_xe_rep2_counts = spots_xe_rep2_counts.append(ms_df)\n",
    "spots_xe_rep2_counts = spots_xe_rep2_counts.loc[visium_roi_sdata.table.obs[\"spot_id\"]]\n",
    "spots_xe_rep2_counts = spots_xe_rep2_counts[sel_genes].to_numpy()\n",
    "visium_roi_sdata.table.layers[\"xe_rep2_tx\"] = spots_xe_rep2_counts"
   ]
  },
  {
   "cell_type": "markdown",
   "id": "2be33957-cca2-4a78-9932-256b7e3e6690",
   "metadata": {},
   "source": [
    "## Saving the data"
   ]
  },
  {
   "cell_type": "code",
   "execution_count": 47,
   "id": "24a629bc-7c6c-442c-9eef-3577f7565c88",
   "metadata": {
    "tags": []
   },
   "outputs": [
    {
     "data": {
      "text/plain": [
       "SpatialData object with:\n",
       "├── Points\n",
       "│     └── 'transcripts': DataFrame with shape: (<Delayed>, 9) (3D points)\n",
       "├── Shapes\n",
       "│     ├── 'cell_boundaries': GeoDataFrame shape: (100849, 2) (2D shapes)\n",
       "│     ├── 'cell_circles': GeoDataFrame shape: (100444, 2) (2D shapes)\n",
       "│     └── 'nucleus_boundaries': GeoDataFrame shape: (100646, 1) (2D shapes)\n",
       "└── Table\n",
       "      └── AnnData object with n_obs × n_vars = 100444 × 307\n",
       "    obs: 'cell_id', 'transcript_counts', 'control_probe_counts', 'control_codeword_counts', 'total_counts', 'cell_area', 'nucleus_area', 'region', 'dataset', 'celltype_major', 'celltype_minor'\n",
       "    var: 'gene_ids', 'feature_types', 'genome'\n",
       "    uns: 'spatialdata_attrs'\n",
       "    obsm: 'spatial': AnnData (100444, 307)\n",
       "with coordinate systems:\n",
       "▸ 'aligned', with elements:\n",
       "        transcripts (Points), cell_boundaries (Shapes), cell_circles (Shapes), nucleus_boundaries (Shapes)\n",
       "▸ 'global', with elements:\n",
       "        transcripts (Points)"
      ]
     },
     "execution_count": 47,
     "metadata": {},
     "output_type": "execute_result"
    }
   ],
   "source": [
    "xe_rep1_roi_sdata"
   ]
  },
  {
   "cell_type": "code",
   "execution_count": 48,
   "id": "04a42588-4f53-4c36-a152-2a0980eab5ce",
   "metadata": {
    "tags": []
   },
   "outputs": [
    {
     "data": {
      "text/plain": [
       "SpatialData object with:\n",
       "├── Points\n",
       "│     └── 'transcripts': DataFrame with shape: (<Delayed>, 9) (3D points)\n",
       "├── Shapes\n",
       "│     ├── 'cell_boundaries': GeoDataFrame shape: (99923, 2) (2D shapes)\n",
       "│     ├── 'cell_circles': GeoDataFrame shape: (99635, 2) (2D shapes)\n",
       "│     └── 'nucleus_boundaries': GeoDataFrame shape: (99761, 1) (2D shapes)\n",
       "└── Table\n",
       "      └── AnnData object with n_obs × n_vars = 99635 × 307\n",
       "    obs: 'cell_id', 'transcript_counts', 'control_probe_counts', 'control_codeword_counts', 'total_counts', 'cell_area', 'nucleus_area', 'region', 'dataset', 'celltype_major', 'celltype_minor'\n",
       "    var: 'gene_ids', 'feature_types', 'genome'\n",
       "    uns: 'spatialdata_attrs'\n",
       "    obsm: 'spatial': AnnData (99635, 307)\n",
       "with coordinate systems:\n",
       "▸ 'aligned', with elements:\n",
       "        transcripts (Points), cell_boundaries (Shapes), cell_circles (Shapes), nucleus_boundaries (Shapes)\n",
       "▸ 'global', with elements:\n",
       "        transcripts (Points)"
      ]
     },
     "execution_count": 48,
     "metadata": {},
     "output_type": "execute_result"
    }
   ],
   "source": [
    "xe_rep2_roi_sdata"
   ]
  },
  {
   "cell_type": "code",
   "execution_count": 49,
   "id": "b028abfc-6732-4ef4-afb6-5cf4e675812f",
   "metadata": {
    "tags": []
   },
   "outputs": [
    {
     "data": {
      "text/plain": [
       "SpatialData object with:\n",
       "├── Shapes\n",
       "│     └── 'CytAssist_FFPE_Human_Breast_Cancer': GeoDataFrame shape: (2775, 2) (2D shapes)\n",
       "└── Table\n",
       "      └── AnnData object with n_obs × n_vars = 2775 × 307\n",
       "    obs: 'in_tissue', 'array_row', 'array_col', 'spot_id', 'region', 'dataset', 'clone'\n",
       "    var: 'gene_ids', 'feature_types', 'genome'\n",
       "    uns: 'clone_colors', 'region_colors', 'spatial', 'spatialdata_attrs'\n",
       "    obsm: 'spatial', 'xe_rep1_celltype_major', 'xe_rep1_celltype_minor', 'xe_rep2_celltype_major', 'xe_rep2_celltype_minor'\n",
       "    layers: 'xe_rep1_cells', 'xe_rep2_cells', 'xe_rep1_tx', 'xe_rep2_tx': AnnData (2775, 307)\n",
       "with coordinate systems:\n",
       "▸ 'aligned', with elements:\n",
       "        CytAssist_FFPE_Human_Breast_Cancer (Shapes)"
      ]
     },
     "execution_count": 49,
     "metadata": {},
     "output_type": "execute_result"
    }
   ],
   "source": [
    "visium_roi_sdata"
   ]
  },
  {
   "cell_type": "code",
   "execution_count": 50,
   "id": "dab6aebe-7b4f-4c60-b5a3-0a45bca0e270",
   "metadata": {
    "tags": []
   },
   "outputs": [],
   "source": [
    "# save transformations to disk (it was only in-memory so far)\n",
    "# TODO: we have to make this more ergonomic and transparent (in the spatiadata package)\n",
    "\n",
    "\n",
    "def save_all_transformations(sdata: SpatialData) -> None:\n",
    "    for element in sdata._gen_elements_values():\n",
    "        transformations = get_transformation(element, get_all=True)\n",
    "        set_transformation(element, transformations, set_all=True, write_to_sdata=sdata)\n",
    "\n",
    "\n",
    "save_all_transformations(xe_rep1_sdata)\n",
    "save_all_transformations(xe_rep2_sdata)\n",
    "save_all_transformations(visium_sdata)"
   ]
  },
  {
   "cell_type": "code",
   "execution_count": 51,
   "id": "621ae166-2a0f-4fbb-a5db-a064c57d6cc2",
   "metadata": {
    "tags": []
   },
   "outputs": [
    {
     "name": "stderr",
     "output_type": "stream",
     "text": [
      "/Users/macbook/miniconda3/envs/ome/lib/python3.10/site-packages/zarr/creation.py:250: UserWarning: ignoring keyword argument 'maxshape'\n",
      "  warn('ignoring keyword argument %r' % k)\n"
     ]
    }
   ],
   "source": [
    "# the table of the xenium data was modified only in-memory, let's sync the change to disk\n",
    "# TODO: also this needs to be improved\n",
    "\n",
    "\n",
    "def save_table(sdata: SpatialData) -> None:\n",
    "    table = sdata.table\n",
    "    del sdata.table\n",
    "    # this is triggering the writing to disk, it is not intuitive\n",
    "    sdata.table = table\n",
    "\n",
    "\n",
    "save_table(xe_rep1_sdata)\n",
    "save_table(xe_rep2_sdata)\n",
    "save_table(visium_sdata)"
   ]
  },
  {
   "cell_type": "code",
   "execution_count": 52,
   "id": "30f85143-114b-430c-bb57-4559ba085761",
   "metadata": {
    "tags": []
   },
   "outputs": [],
   "source": [
    "# delete column in shapes data that we don't want to save (it just duplicates the index and we used before some merging that will be replaced by aggregate())\n",
    "if \"cell_id\" in xe_rep1_roi_sdata.shapes[\"cell_boundaries\"]:\n",
    "    del xe_rep1_roi_sdata.shapes[\"cell_boundaries\"][\"cell_id\"]\n",
    "if \"cell_id\" in xe_rep2_roi_sdata.shapes[\"cell_boundaries\"]:\n",
    "    del xe_rep2_roi_sdata.shapes[\"cell_boundaries\"][\"cell_id\"]"
   ]
  },
  {
   "cell_type": "code",
   "execution_count": 53,
   "id": "6e1fe4d7-2331-414d-9d7a-b561d660371c",
   "metadata": {
    "tags": []
   },
   "outputs": [
    {
     "name": "stderr",
     "output_type": "stream",
     "text": [
      "/Users/macbook/miniconda3/envs/ome/lib/python3.10/site-packages/zarr/creation.py:250: UserWarning: ignoring keyword argument 'maxshape'\n",
      "  warn('ignoring keyword argument %r' % k)\n",
      "/Users/macbook/miniconda3/envs/ome/lib/python3.10/site-packages/zarr/creation.py:250: UserWarning: ignoring keyword argument 'maxshape'\n",
      "  warn('ignoring keyword argument %r' % k)\n"
     ]
    },
    {
     "name": "stdout",
     "output_type": "stream",
     "text": [
      "CPU times: user 16.4 s, sys: 11.5 s, total: 27.8 s\n",
      "Wall time: 41.2 s\n"
     ]
    }
   ],
   "source": [
    "%%time\n",
    "import shutil\n",
    "\n",
    "if os.path.isdir(XE_REP1_ROI_PATH):\n",
    "    shutil.rmtree(XE_REP1_ROI_PATH)\n",
    "xe_rep1_roi_sdata.write(XE_REP1_ROI_PATH)\n",
    "\n",
    "if os.path.isdir(XE_REP2_ROI_PATH):\n",
    "    shutil.rmtree(XE_REP2_ROI_PATH)\n",
    "xe_rep2_roi_sdata.write(XE_REP2_ROI_PATH)\n",
    "\n",
    "if os.path.isdir(VISIUM_ROI_PATH):\n",
    "    shutil.rmtree(VISIUM_ROI_PATH)\n",
    "visium_roi_sdata.write(VISIUM_ROI_PATH)"
   ]
  },
  {
   "cell_type": "markdown",
   "id": "ea93f6e2-814a-4ba8-a81a-fc07538f7222",
   "metadata": {},
   "source": [
    "### Internal code"
   ]
  },
  {
   "cell_type": "markdown",
   "id": "d9f2cb0b-e65c-47e0-951d-843f9c34441f",
   "metadata": {},
   "source": [
    "During development, we conclude doing a check that the data that we saved is correct."
   ]
  },
  {
   "cell_type": "code",
   "execution_count": 54,
   "id": "1eec6139-4cdb-4913-8c75-a7eaecfa1633",
   "metadata": {
    "tags": []
   },
   "outputs": [],
   "source": [
    "xe_rep1_sdata2 = sd.read_zarr(XE_REP1_PATH)\n",
    "xe_rep2_sdata2 = sd.read_zarr(XE_REP2_PATH)\n",
    "visium_sdata2 = sd.read_zarr(VISIUM_PATH)\n",
    "\n",
    "xe_rep1_roi_sdata2 = sd.read_zarr(XE_REP1_ROI_PATH)\n",
    "xe_rep2_roi_sdata2 = sd.read_zarr(XE_REP2_ROI_PATH)\n",
    "visium_roi_sdata2 = sd.read_zarr(VISIUM_ROI_PATH)"
   ]
  },
  {
   "cell_type": "code",
   "execution_count": 55,
   "id": "540632d5-130f-4950-80a2-8b5c4c3e33e2",
   "metadata": {
    "tags": []
   },
   "outputs": [],
   "source": [
    "assert str(xe_rep1_sdata) == str(xe_rep1_sdata2)\n",
    "assert str(xe_rep2_sdata) == str(xe_rep2_sdata2)\n",
    "assert str(visium_sdata) == str(visium_sdata2)\n",
    "\n",
    "assert str(xe_rep1_roi_sdata) == str(xe_rep1_roi_sdata2)\n",
    "assert str(xe_rep2_roi_sdata) == str(xe_rep2_roi_sdata2)\n",
    "assert sorted(str(visium_roi_sdata)) == sorted(str(visium_roi_sdata2))"
   ]
  },
  {
   "cell_type": "raw",
   "id": "7ac6d8d3-e2d9-44d3-8f2f-c1ceb66adc5b",
   "metadata": {},
   "source": [
    "from napari_spatialdata import Interactive\n",
    "\n",
    "Interactive([xe_rep1_sdata, xe_rep2_sdata, visium_sdata, landmarks_sdata], points=False)\n",
    "Interactive(\n",
    "    [xe_rep1_roi_sdata, xe_rep2_roi_sdata, visium_roi_sdata, landmarks_sdata],\n",
    "    points=False,\n",
    ")"
   ]
  },
  {
   "cell_type": "markdown",
   "id": "ed3e3fbd-20da-4e68-bf4b-27530a79675d",
   "metadata": {},
   "source": [
    "For interal pipelines used during development, we also copy the produced data into a new location."
   ]
  },
  {
   "cell_type": "code",
   "execution_count": 56,
   "id": "6197c42f-b97e-4195-b9ae-ece3cd813872",
   "metadata": {
    "tags": []
   },
   "outputs": [],
   "source": [
    "XE_REP1_ALIGNED_PATH = XE_REP1_PATH.replace(\"data.zarr\", \"data_aligned.zarr\")\n",
    "XE_REP2_ALIGNED_PATH = XE_REP2_PATH.replace(\"data.zarr\", \"data_aligned.zarr\")\n",
    "VISIUM_ALIGNED_PATH = VISIUM_PATH.replace(\"data.zarr\", \"data_aligned.zarr\")\n",
    "\n",
    "if os.path.isdir(XE_REP1_ALIGNED_PATH):\n",
    "    shutil.rmtree(XE_REP1_ALIGNED_PATH)\n",
    "    shutil.copytree(XE_REP1_PATH, XE_REP1_ALIGNED_PATH)\n",
    "\n",
    "if os.path.isdir(XE_REP2_ALIGNED_PATH):\n",
    "    shutil.rmtree(XE_REP2_ALIGNED_PATH)\n",
    "    shutil.copytree(XE_REP2_PATH, XE_REP2_ALIGNED_PATH)\n",
    "\n",
    "if os.path.isdir(VISIUM_ALIGNED_PATH):\n",
    "    shutil.rmtree(VISIUM_ALIGNED_PATH)\n",
    "    shutil.copytree(VISIUM_PATH, VISIUM_ALIGNED_PATH)"
   ]
  }
 ],
 "metadata": {
  "kernelspec": {
   "display_name": "Python 3 (ipykernel)",
   "language": "python",
   "name": "python3"
  },
  "language_info": {
   "codemirror_mode": {
    "name": "ipython",
    "version": 3
   },
   "file_extension": ".py",
   "mimetype": "text/x-python",
   "name": "python",
   "nbconvert_exporter": "python",
   "pygments_lexer": "ipython3",
   "version": "3.10.9"
  }
 },
 "nbformat": 4,
 "nbformat_minor": 5
}
